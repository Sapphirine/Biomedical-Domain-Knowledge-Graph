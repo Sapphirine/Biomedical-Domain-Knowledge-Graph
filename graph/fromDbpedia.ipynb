{
 "cells": [
  {
   "cell_type": "markdown",
   "metadata": {},
   "source": [
    "## Use saprQL to query DBpedia"
   ]
  },
  {
   "cell_type": "code",
   "execution_count": 1,
   "metadata": {},
   "outputs": [
    {
     "name": "stdout",
     "output_type": "stream",
     "text": [
      "http://dbpedia.org/resource/Musa_Hakan_Asyalı http://dbpedia.org/ontology/knownFor http://dbpedia.org/resource/Biomedical\n",
      "http://dbpedia.org/resource/Biomedical http://www.w3.org/2002/07/owl#sameAs http://dbpedia.org/resource/Biomedical\n",
      "http://dbpedia.org/resource/Biomedical http://xmlns.com/foaf/0.1/isPrimaryTopicOf http://en.wikipedia.org/wiki/Biomedical\n",
      "http://dbpedia.org/resource/Biomedical http://dbpedia.org/ontology/wikiPageID 609268\n",
      "http://dbpedia.org/resource/Nadine_Barrie_Smith http://dbpedia.org/ontology/field http://dbpedia.org/resource/Biomedical\n",
      "http://dbpedia.org/resource/Biomedical http://dbpedia.org/ontology/wikiPageRedirects http://dbpedia.org/resource/Medical_research\n",
      "http://dbpedia.org/resource/Biomedical http://www.w3.org/ns/prov#wasDerivedFrom http://en.wikipedia.org/wiki/Biomedical?oldid=288855867\n",
      "http://en.wikipedia.org/wiki/Biomedical http://xmlns.com/foaf/0.1/primaryTopic http://dbpedia.org/resource/Biomedical\n",
      "http://dbpedia.org/resource/Charles_Stark_Draper_Laboratory http://dbpedia.org/ontology/industry http://dbpedia.org/resource/Biomedical\n",
      "http://dbpedia.org/resource/Biomedical http://dbpedia.org/ontology/wikiPageRevisionID 288855867\n",
      "http://dbpedia.org/resource/Biomedical http://www.w3.org/2000/01/rdf-schema#label Biomedical\n"
     ]
    }
   ],
   "source": [
    "import rdflib\n",
    "g=rdflib.Graph()\n",
    "g.load('http://dbpedia.org/resource/Biomedical')\n",
    "\n",
    "for s,p,o in g:\n",
    "    print (s,p,o)"
   ]
  },
  {
   "cell_type": "code",
   "execution_count": 65,
   "metadata": {},
   "outputs": [],
   "source": [
    "from SPARQLWrapper import SPARQLWrapper, JSON\n",
    "\n",
    "prefix = \"\"\"\n",
    "    PREFIX rdf: <http://www.w3.org/1999/02/22-rdf-syntax-ns#>\n",
    "    PREFIX rdfs: <http://www.w3.org/2000/01/rdf-schema#>\n",
    "    PREFIX dbpedia: <http://dbpedia.org/resource/>PREFIX dcterms: <http://purl.org/dc/terms/>\n",
    "    PREFIX dbpedia-owl: <http://dbpedia.org/ontology/>PREFIX category: <http://dbpedia.org/resource/Category:>\n",
    "    PREFIX xsd: <http://www.w3.org/2001/XMLSchema#>PREFIX foaf: <http://xmlns.com/foaf/0.1/>PREFIX dbpprop: <http://dbpedia.org/property/>\n",
    "    PREFIX dbprop: <http://dbpedia.org/property/>PREFIX grs: <http://www.georss.org/georss/>\n",
    "    PREFIX category: <http://dbpedia.org/resource/Category:>\n",
    "    PREFIX dcterms: <http://purl.org/dc/terms/>\n",
    "    PREFIX owl: <http://www.w3.org/2002/07/owl#>\n",
    "    PREFIX freebase: <http://rdf.freebase.com/ns/>\n",
    "    PREFIX db: <http://dbpedia.org/>\n",
    "    PREFIX dbp: <http://dbpedia.org/property/>\n",
    "    PREFIX foaf: <http://xmlns.com/foaf/0.1/>\n",
    "    PREFIX http: <http://www.w3.org/2006/http#>\"\"\""
   ]
  },
  {
   "cell_type": "code",
   "execution_count": 14,
   "metadata": {},
   "outputs": [
    {
     "name": "stdout",
     "output_type": "stream",
     "text": [
      "{'z': {'type': 'uri', 'value': 'http://www.w3.org/2002/07/owl#Thing'}}\n",
      "{'z': {'type': 'uri', 'value': 'http://xmlns.com/foaf/0.1/Person'}}\n",
      "{'z': {'type': 'uri', 'value': 'http://dbpedia.org/ontology/Person'}}\n",
      "{'z': {'type': 'uri', 'value': 'http://www.ontologydesignpatterns.org/ont/dul/DUL.owl#Agent'}}\n",
      "{'z': {'type': 'uri', 'value': 'http://www.ontologydesignpatterns.org/ont/dul/DUL.owl#NaturalPerson'}}\n",
      "{'z': {'type': 'uri', 'value': 'http://www.wikidata.org/entity/Q215627'}}\n",
      "{'z': {'type': 'uri', 'value': 'http://www.wikidata.org/entity/Q24229398'}}\n",
      "{'z': {'type': 'uri', 'value': 'http://www.wikidata.org/entity/Q5'}}\n",
      "{'z': {'type': 'uri', 'value': 'http://www.wikidata.org/entity/Q901'}}\n",
      "{'z': {'type': 'uri', 'value': 'http://dbpedia.org/ontology/Agent'}}\n",
      "{'z': {'type': 'uri', 'value': 'http://dbpedia.org/ontology/Scientist'}}\n",
      "{'z': {'type': 'uri', 'value': 'http://schema.org/Person'}}\n"
     ]
    }
   ],
   "source": [
    "sparql = SPARQLWrapper(\"http://dbpedia.org/sparql\")\n",
    "sparql.setQuery(prefix + \"\"\"    \n",
    "    SELECT ?z\n",
    "    WHERE { <http://dbpedia.org/resource/Biomedical_engineering> rdf:type ?z }\n",
    "\"\"\")\n",
    "#Arye_Rosen\n",
    "sparql.setReturnFormat(JSON)\n",
    "results = sparql.query().convert()\n",
    "\n",
    "for result in results[\"results\"][\"bindings\"]:\n",
    "    print(result)"
   ]
  },
  {
   "cell_type": "code",
   "execution_count": 3,
   "metadata": {},
   "outputs": [
    {
     "name": "stdout",
     "output_type": "stream",
     "text": [
      "Biomedical engineering\n"
     ]
    }
   ],
   "source": [
    "sparql = SPARQLWrapper(\"http://dbpedia.org/sparql\")\n",
    "sparql.setQuery(prefix + \"\"\"\n",
    "    SELECT ?z\n",
    "    WHERE { <http://dbpedia.org/resource/Biomedical_engineering> rdfs:label ?z }\n",
    "\"\"\")\n",
    "sparql.setReturnFormat(JSON)\n",
    "results = sparql.query().convert()\n",
    "\n",
    "for result in results[\"results\"][\"bindings\"]:\n",
    "    if result['z']['xml:lang'] == 'en':\n",
    "        print(result['z']['value'])"
   ]
  },
  {
   "cell_type": "markdown",
   "metadata": {
    "collapsed": true
   },
   "source": [
    "## Search things in DBpedia and Store into mongoDB"
   ]
  },
  {
   "cell_type": "code",
   "execution_count": 4,
   "metadata": {},
   "outputs": [],
   "source": [
    "from pymongo import MongoClient\n",
    "client = MongoClient()\n",
    "client = MongoClient('.amazonaws.com', 27017)\n",
    "db = client.KG"
   ]
  },
  {
   "cell_type": "code",
   "execution_count": 74,
   "metadata": {},
   "outputs": [],
   "source": [
    "#Replace symbol that may crash the query\n",
    "def clean(word):\n",
    "    word = word.replace(' ','_')\n",
    "    word = word.replace('\"','//')\n",
    "    word = word.replace(\"'\",\"/\")\n",
    "    return word\n",
    "\n",
    "\n",
    "#Search the page title and get its pages\n",
    "def get_type_from_db(title):\n",
    "    sparql = SPARQLWrapper(\"http://dbpedia.org/sparql\")\n",
    "    sparql.setQuery(prefix + \"\"\"    \n",
    "        SELECT ?z\n",
    "        WHERE { <http://dbpedia.org/resource/\"\"\"+title+\"\"\"> rdf:type ?z }\n",
    "    \"\"\")\n",
    "    sparql.setReturnFormat(JSON)\n",
    "    results = sparql.query().convert()\n",
    "    value = []\n",
    "    for result in results[\"results\"][\"bindings\"]:\n",
    "        value.append(result['z']['value'].split('/')[-1])\n",
    "    if 'Person' in value:\n",
    "        return 'Person'\n",
    "    elif 'University' in value:\n",
    "        return 'University'\n",
    "\n"
   ]
  },
  {
   "cell_type": "code",
   "execution_count": 76,
   "metadata": {},
   "outputs": [
    {
     "data": {
      "text/plain": [
       "'University'"
      ]
     },
     "execution_count": 76,
     "metadata": {},
     "output_type": "execute_result"
    }
   ],
   "source": [
    "get_type_from_db(clean('Georgia_Institute_of_Technology'))"
   ]
  },
  {
   "cell_type": "code",
   "execution_count": 29,
   "metadata": {},
   "outputs": [
    {
     "ename": "SyntaxError",
     "evalue": "unexpected EOF while parsing (<ipython-input-29-d1b48129df46>, line 13)",
     "output_type": "error",
     "traceback": [
      "\u001b[0;36m  File \u001b[0;32m\"<ipython-input-29-d1b48129df46>\"\u001b[0;36m, line \u001b[0;32m13\u001b[0m\n\u001b[0;31m    #save_to_mongo(page)\u001b[0m\n\u001b[0m                        ^\u001b[0m\n\u001b[0;31mSyntaxError\u001b[0m\u001b[0;31m:\u001b[0m unexpected EOF while parsing\n"
     ]
    }
   ],
   "source": [
    "\n",
    "    \n",
    "\n",
    "def get_info_from_db(title):\n",
    "    page_type = get_type_from_db(title)\n",
    "\n",
    "\n",
    "\n",
    "# Transfer pages in mongoDB to specific nodes with labels\n",
    "def transfer_pages():\n",
    "    for page in db.pages.find({}):\n",
    "        page = get_info_from_db(clean(page['title'])\n",
    "        #save_to_mongo(page)\n",
    "\n"
   ]
  },
  {
   "cell_type": "code",
   "execution_count": null,
   "metadata": {},
   "outputs": [],
   "source": []
  }
 ],
 "metadata": {
  "kernelspec": {
   "display_name": "Python 3",
   "language": "python",
   "name": "python3"
  },
  "language_info": {
   "codemirror_mode": {
    "name": "ipython",
    "version": 3
   },
   "file_extension": ".py",
   "mimetype": "text/x-python",
   "name": "python",
   "nbconvert_exporter": "python",
   "pygments_lexer": "ipython3",
   "version": "3.6.4"
  }
 },
 "nbformat": 4,
 "nbformat_minor": 2
}
