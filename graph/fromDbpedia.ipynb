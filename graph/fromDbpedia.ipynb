{
 "cells": [
  {
   "cell_type": "markdown",
   "metadata": {},
   "source": [
    "## Use saprQL to query DBpedia"
   ]
  },
  {
   "cell_type": "code",
   "execution_count": 1,
   "metadata": {},
   "outputs": [
    {
     "name": "stdout",
     "output_type": "stream",
     "text": [
      "http://dbpedia.org/resource/Musa_Hakan_Asyalı http://dbpedia.org/ontology/knownFor http://dbpedia.org/resource/Biomedical\n",
      "http://dbpedia.org/resource/Biomedical http://www.w3.org/2002/07/owl#sameAs http://dbpedia.org/resource/Biomedical\n",
      "http://dbpedia.org/resource/Biomedical http://xmlns.com/foaf/0.1/isPrimaryTopicOf http://en.wikipedia.org/wiki/Biomedical\n",
      "http://dbpedia.org/resource/Biomedical http://dbpedia.org/ontology/wikiPageID 609268\n",
      "http://dbpedia.org/resource/Nadine_Barrie_Smith http://dbpedia.org/ontology/field http://dbpedia.org/resource/Biomedical\n",
      "http://dbpedia.org/resource/Biomedical http://dbpedia.org/ontology/wikiPageRedirects http://dbpedia.org/resource/Medical_research\n",
      "http://dbpedia.org/resource/Biomedical http://www.w3.org/ns/prov#wasDerivedFrom http://en.wikipedia.org/wiki/Biomedical?oldid=288855867\n",
      "http://en.wikipedia.org/wiki/Biomedical http://xmlns.com/foaf/0.1/primaryTopic http://dbpedia.org/resource/Biomedical\n",
      "http://dbpedia.org/resource/Charles_Stark_Draper_Laboratory http://dbpedia.org/ontology/industry http://dbpedia.org/resource/Biomedical\n",
      "http://dbpedia.org/resource/Biomedical http://dbpedia.org/ontology/wikiPageRevisionID 288855867\n",
      "http://dbpedia.org/resource/Biomedical http://www.w3.org/2000/01/rdf-schema#label Biomedical\n"
     ]
    }
   ],
   "source": [
    "import rdflib\n",
    "g=rdflib.Graph()\n",
    "g.load('http://dbpedia.org/resource/Biomedical')\n",
    "\n",
    "for s,p,o in g:\n",
    "    print (s,p,o)"
   ]
  },
  {
   "cell_type": "code",
   "execution_count": 117,
   "metadata": {},
   "outputs": [],
   "source": [
    "from SPARQLWrapper import SPARQLWrapper, JSON\n",
    "\n",
    "prefix = \"\"\"\n",
    "    PREFIX rdf: <http://www.w3.org/1999/02/22-rdf-syntax-ns#>\n",
    "    PREFIX rdfs: <http://www.w3.org/2000/01/rdf-schema#>\n",
    "    PREFIX dbpedia: <http://dbpedia.org/resource/>PREFIX dcterms: <http://purl.org/dc/terms/>\n",
    "    PREFIX dbo: <http://dbpedia.org/ontology/>PREFIX category: <http://dbpedia.org/resource/Category:>\n",
    "    PREFIX xsd: <http://www.w3.org/2001/XMLSchema#>PREFIX foaf: <http://xmlns.com/foaf/0.1/>PREFIX dbpprop: <http://dbpedia.org/property/>\n",
    "    PREFIX dbprop: <http://dbpedia.org/property/>PREFIX grs: <http://www.georss.org/georss/>\n",
    "    PREFIX category: <http://dbpedia.org/resource/Category:>\n",
    "    PREFIX dcterms: <http://purl.org/dc/terms/>\n",
    "    PREFIX owl: <http://www.w3.org/2002/07/owl#>\n",
    "    PREFIX freebase: <http://rdf.freebase.com/ns/>\n",
    "    PREFIX db: <http://dbpedia.org/>\n",
    "    PREFIX dbp: <http://dbpedia.org/property/>\n",
    "    PREFIX foaf: <http://xmlns.com/foaf/0.1/>\n",
    "    PREFIX http: <http://www.w3.org/2006/http#>\"\"\""
   ]
  },
  {
   "cell_type": "code",
   "execution_count": 14,
   "metadata": {},
   "outputs": [
    {
     "name": "stdout",
     "output_type": "stream",
     "text": [
      "{'z': {'type': 'uri', 'value': 'http://www.w3.org/2002/07/owl#Thing'}}\n",
      "{'z': {'type': 'uri', 'value': 'http://xmlns.com/foaf/0.1/Person'}}\n",
      "{'z': {'type': 'uri', 'value': 'http://dbpedia.org/ontology/Person'}}\n",
      "{'z': {'type': 'uri', 'value': 'http://www.ontologydesignpatterns.org/ont/dul/DUL.owl#Agent'}}\n",
      "{'z': {'type': 'uri', 'value': 'http://www.ontologydesignpatterns.org/ont/dul/DUL.owl#NaturalPerson'}}\n",
      "{'z': {'type': 'uri', 'value': 'http://www.wikidata.org/entity/Q215627'}}\n",
      "{'z': {'type': 'uri', 'value': 'http://www.wikidata.org/entity/Q24229398'}}\n",
      "{'z': {'type': 'uri', 'value': 'http://www.wikidata.org/entity/Q5'}}\n",
      "{'z': {'type': 'uri', 'value': 'http://www.wikidata.org/entity/Q901'}}\n",
      "{'z': {'type': 'uri', 'value': 'http://dbpedia.org/ontology/Agent'}}\n",
      "{'z': {'type': 'uri', 'value': 'http://dbpedia.org/ontology/Scientist'}}\n",
      "{'z': {'type': 'uri', 'value': 'http://schema.org/Person'}}\n"
     ]
    }
   ],
   "source": [
    "sparql = SPARQLWrapper(\"http://dbpedia.org/sparql\")\n",
    "sparql.setQuery(prefix + \"\"\"    \n",
    "    SELECT ?z\n",
    "    WHERE { <http://dbpedia.org/resource/Biomedical_engineering> rdf:type ?z }\n",
    "\"\"\")\n",
    "#Arye_Rosen\n",
    "sparql.setReturnFormat(JSON)\n",
    "results = sparql.query().convert()\n",
    "\n",
    "for result in results[\"results\"][\"bindings\"]:\n",
    "    print(result)"
   ]
  },
  {
   "cell_type": "code",
   "execution_count": 3,
   "metadata": {},
   "outputs": [
    {
     "name": "stdout",
     "output_type": "stream",
     "text": [
      "Biomedical engineering\n"
     ]
    }
   ],
   "source": [
    "sparql = SPARQLWrapper(\"http://dbpedia.org/sparql\")\n",
    "sparql.setQuery(prefix + \"\"\"\n",
    "    SELECT ?z\n",
    "    WHERE { <http://dbpedia.org/resource/Biomedical_engineering> rdfs:label ?z }\n",
    "\"\"\")\n",
    "sparql.setReturnFormat(JSON)\n",
    "results = sparql.query().convert()\n",
    "\n",
    "for result in results[\"results\"][\"bindings\"]:\n",
    "    if result['z']['xml:lang'] == 'en':\n",
    "        print(result['z']['value'])"
   ]
  },
  {
   "cell_type": "markdown",
   "metadata": {
    "collapsed": true
   },
   "source": [
    "## Search things in DBpedia and Store into mongoDB"
   ]
  },
  {
   "cell_type": "code",
   "execution_count": 4,
   "metadata": {},
   "outputs": [],
   "source": [
    "from pymongo import MongoClient\n",
    "client = MongoClient()\n",
    "client = MongoClient('compute-1.amazonaws.com', 27017)\n",
    "db = client.KG"
   ]
  },
  {
   "cell_type": "code",
   "execution_count": 140,
   "metadata": {},
   "outputs": [],
   "source": [
    "searchtype = {}\n",
    "searchtype['abstract'] = 'dbo'\n",
    "searchtype['birthDate'] = 'dbo'\n",
    "searchtype['birthPlace'] = 'dbo'\n",
    "searchtype['field'] = 'dbo'\n",
    "searchtype['city'] = 'dbo'\n",
    "searchtype['state'] = 'dbo'\n",
    "searchtype['type'] = 'dbo'\n",
    "searchtype['homepage'] = 'foaf'\n",
    "searchtype['subject'] = 'dct'\n",
    "searchtype['label'] = 'rdfs'\n",
    "searchtype['wikiPageExternalLink'] = 'dbo'\n",
    "searchtype['isPrimaryTopicOf'] = 'foaf'"
   ]
  },
  {
   "cell_type": "code",
   "execution_count": 111,
   "metadata": {},
   "outputs": [],
   "source": [
    "#Replace symbol that may crash the query\n",
    "def clean(word):\n",
    "    word = word.replace(' ','_')\n",
    "    word = word.replace('\"','//')\n",
    "    word = word.replace(\"'\",\"/\")\n",
    "    return word\n",
    "\n",
    "\n",
    "def clean_output(word):\n",
    "    \n",
    "    word = word.split('/')[-1]\n",
    "    word = word.replace('_',' ')\n",
    "    return word"
   ]
  },
  {
   "cell_type": "code",
   "execution_count": 77,
   "metadata": {},
   "outputs": [],
   "source": [
    "#Search the page title and get its pages\n",
    "def get_type_from_db(title):\n",
    "    sparql = SPARQLWrapper(\"http://dbpedia.org/sparql\")\n",
    "    sparql.setQuery(prefix + \"\"\"    \n",
    "        SELECT ?z\n",
    "        WHERE { <http://dbpedia.org/resource/\"\"\"+title+\"\"\"> rdf:type ?z }\n",
    "    \"\"\")\n",
    "    sparql.setReturnFormat(JSON)\n",
    "    results = sparql.query().convert()\n",
    "    value = []\n",
    "    for result in results[\"results\"][\"bindings\"]:\n",
    "        value.append(result['z']['value'].split('/')[-1])\n",
    "    if 'Person' in value:\n",
    "        return 'Person'\n",
    "    elif 'University' in value:\n",
    "        return 'University'\n",
    "    else:\n",
    "        return 'Thing'\n"
   ]
  },
  {
   "cell_type": "code",
   "execution_count": 151,
   "metadata": {},
   "outputs": [],
   "source": [
    "query_contents = {}\n",
    "query_contents['Person'] = ['abstract','type','birthDate','birthPlace','label','field','homepage']\n",
    "query_contents['University'] = ['abstract','type','state','city','label','homepage']\n",
    "query_contents['Thing'] = ['abstract','label','wikiPageExternalLink','subject','isPrimaryTopicOf']\n",
    "\n",
    "#Get all fields needed for a person\n",
    "def construct(title,ctype):\n",
    "    results = {}\n",
    "    results['category'] = ctype\n",
    "    for content in query_contents[ctype]:\n",
    "        sparql = SPARQLWrapper(\"http://dbpedia.org/sparql\")\n",
    "        sparql.setQuery(prefix + \"\"\"    \n",
    "            SELECT ?z\n",
    "            WHERE { <http://dbpedia.org/resource/\"\"\"+title+\"> \"+searchtype[content]+\":\"+content+\"\"\" ?z }\n",
    "        \"\"\")\n",
    "        sparql.setReturnFormat(JSON)\n",
    "        result = sparql.query().convert()\n",
    "        output = []\n",
    "        for r in result[\"results\"][\"bindings\"]:\n",
    "            if content != 'homepage' and 'Link' not in content:\n",
    "                r['z']['value'] = clean_output(r['z']['value'])\n",
    "            try:\n",
    "                if r['z']['xml:lang'] == 'en':\n",
    "                    output.append(r['z']['value'])\n",
    "            except:\n",
    "                output.append(r['z']['value'])\n",
    "        results[content] = output\n",
    "    return results"
   ]
  },
  {
   "cell_type": "code",
   "execution_count": 152,
   "metadata": {},
   "outputs": [
    {
     "data": {
      "text/plain": [
       "{'abstract': ['Cassie Mitchell (born 1981) is an American chemist and Paralympic athlete and cyclist.'],\n",
       " 'birthDate': ['1981-1-1'],\n",
       " 'birthPlace': ['Muskogee, Oklahoma'],\n",
       " 'category': 'Person',\n",
       " 'field': ['Biomedical engineering', 'Chemical engineering'],\n",
       " 'homepage': ['http://www.cassie-mitchell.com/paralympics.html'],\n",
       " 'label': ['Cassie Mitchell'],\n",
       " 'type': []}"
      ]
     },
     "execution_count": 152,
     "metadata": {},
     "output_type": "execute_result"
    }
   ],
   "source": [
    "construct('Cassie_Mitchell','Person')"
   ]
  },
  {
   "cell_type": "code",
   "execution_count": 153,
   "metadata": {},
   "outputs": [
    {
     "data": {
      "text/plain": [
       "{'abstract': [\"Drexel University is a private research university with three campuses in Philadelphia and one in Sacramento, California. It was founded in 1891 by Anthony J. Drexel, a noted financier and philanthropist. As of 2015, more than 26,000 students are enrolled in over 70 undergraduate programs and more than 100 master's, doctoral, and professional programs at the university. Drexel's cooperative education program (co-op) is a unique aspect of the school's degree programs, offering students the opportunity to gain up to 18 months of paid, full-time work experience in a field relevant to their undergraduate major or graduate degree program prior to graduation.\"],\n",
       " 'category': 'University',\n",
       " 'city': ['Philadelphia'],\n",
       " 'homepage': ['http://www.drexel.edu'],\n",
       " 'label': ['Drexel University'],\n",
       " 'state': ['Pennsylvania'],\n",
       " 'type': ['Private university', 'Research']}"
      ]
     },
     "execution_count": 153,
     "metadata": {},
     "output_type": "execute_result"
    }
   ],
   "source": [
    "construct('Drexel_University','University')"
   ]
  },
  {
   "cell_type": "code",
   "execution_count": 154,
   "metadata": {},
   "outputs": [
    {
     "data": {
      "text/plain": [
       "{'abstract': ['Biomedical engineering (BME) is the application of engineering principles and design concepts to medicine and biology for healthcare purposes (e.g. diagnostic or therapeutic). This field seeks to close the gap between engineering and medicine, combining the design and problem solving skills of engineering with medical and biological sciences to advance health care treatment, including diagnosis, monitoring, and therapy.Biomedical engineering has only recently emerged as its own study, compared to many other engineering fields. Such an evolution is common as a new field transitions from being an interdisciplinary specialization among already-established fields, to being considered a field in itself. Much of the work in biomedical engineering consists of research and development, spanning a broad array of subfields (see below). Prominent biomedical engineering applications include the development of biocompatible prostheses, various diagnostic and therapeutic medical devices ranging from clinical equipment to micro-implants, common imaging equipment such as MRIs and EEGs, regenerative tissue growth, pharmaceutical drugs and therapeutic biologicals.'],\n",
       " 'category': 'Thing',\n",
       " 'isPrimaryTopicOf': ['Biomedical engineering'],\n",
       " 'label': ['Biomedical engineering'],\n",
       " 'subject': ['Category:Biological engineering',\n",
       "  'Category:Biomedical engineering'],\n",
       " 'wikiPageExternalLink': ['http://crcpress.com/product/isbn/9780849321245',\n",
       "  'http://www.biomedtechnicians.com']}"
      ]
     },
     "execution_count": 154,
     "metadata": {},
     "output_type": "execute_result"
    }
   ],
   "source": [
    "construct('Biomedical_engineering','Thing')"
   ]
  },
  {
   "cell_type": "code",
   "execution_count": 163,
   "metadata": {},
   "outputs": [],
   "source": [
    "#check if the noe is already exists in the database\n",
    "def check_not_exists(result):\n",
    "    if result['category'] == 'Person':\n",
    "        return db.nodes.find({'category':result['category'],'label':result['label'],'birthDate':result['birthDate']}).count() == 0\n",
    "    else:\n",
    "        return db.nodes.find({'category':result['category'],'label':result['label']}).count() == 0\n",
    "        \n",
    "    \n",
    "#Transfer the result format and save to mongoDB\n",
    "def save_to_mongo(result):\n",
    "    if check_not_exists(result):\n",
    "        db.nodes.insert_one(result)\n",
    "    else:\n",
    "        if result['category'] == 'Person':\n",
    "            db.nodes.update_one({'category':result['category'],'label':result['label'],'birthDate':result['birthDate']},{'$set':result})\n",
    "        else:\n",
    "            db.nodes.update_one({'category':result['category'],'label':result['label']},{'$set':result})\n",
    "    return\n",
    "\n",
    "\n",
    "def add_relation_to_mongo(result):\n",
    "    "
   ]
  },
  {
   "cell_type": "code",
   "execution_count": 165,
   "metadata": {},
   "outputs": [],
   "source": [
    "save_to_mongo(construct('Biomedical_engineering','Thing'))"
   ]
  },
  {
   "cell_type": "code",
   "execution_count": 29,
   "metadata": {},
   "outputs": [
    {
     "ename": "SyntaxError",
     "evalue": "unexpected EOF while parsing (<ipython-input-29-d1b48129df46>, line 13)",
     "output_type": "error",
     "traceback": [
      "\u001b[0;36m  File \u001b[0;32m\"<ipython-input-29-d1b48129df46>\"\u001b[0;36m, line \u001b[0;32m13\u001b[0m\n\u001b[0;31m    #save_to_mongo(page)\u001b[0m\n\u001b[0m                        ^\u001b[0m\n\u001b[0;31mSyntaxError\u001b[0m\u001b[0;31m:\u001b[0m unexpected EOF while parsing\n"
     ]
    }
   ],
   "source": [
    "#Using the title to search and extract \n",
    "def get_info_from_db(title):\n",
    "    page_type = get_type_from_db(title)\n",
    "    result = construct(title, page_type)\n",
    "    save_to_mongo(result)\n",
    "    add_relation_to_mongo(result)\n",
    "\n",
    "# Transfer pages in mongoDB to specific nodes with labels\n",
    "def transfer_pages():\n",
    "    for page in db.pages.find({}):\n",
    "        page = get_info_from_db(clean(page['title'])\n",
    "        #save_to_mongo(page)\n",
    "\n"
   ]
  },
  {
   "cell_type": "code",
   "execution_count": null,
   "metadata": {},
   "outputs": [],
   "source": []
  }
 ],
 "metadata": {
  "kernelspec": {
   "display_name": "Python 3",
   "language": "python",
   "name": "python3"
  },
  "language_info": {
   "codemirror_mode": {
    "name": "ipython",
    "version": 3
   },
   "file_extension": ".py",
   "mimetype": "text/x-python",
   "name": "python",
   "nbconvert_exporter": "python",
   "pygments_lexer": "ipython3",
   "version": "3.6.4"
  }
 },
 "nbformat": 4,
 "nbformat_minor": 2
}
