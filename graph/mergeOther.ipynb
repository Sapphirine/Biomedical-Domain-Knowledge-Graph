{
 "cells": [
  {
   "cell_type": "code",
   "execution_count": 1,
   "metadata": {},
   "outputs": [],
   "source": [
    "from py2neo import Graph, Path\n",
    "from py2neo import Node, Relationship\n",
    "from pymongo import MongoClient\n",
    "import json\n",
    "\n",
    "config = json.load(open(\"config.json\"))\n",
    "\n",
    "graph = Graph(\"http://\"+config[\"user\"]+\":\"+config[\"password\"]+\"@\"+config[\"server\"]+\":7474\")\n",
    "\n",
    "client = MongoClient()\n",
    "client = MongoClient(config[\"server\"], 27017)\n",
    "db = client.KG"
   ]
  },
  {
   "cell_type": "markdown",
   "metadata": {},
   "source": [
    "## Merge crawling data into storage"
   ]
  }
 ],
 "metadata": {
  "kernelspec": {
   "display_name": "Python 3",
   "language": "python",
   "name": "python3"
  },
  "language_info": {
   "codemirror_mode": {
    "name": "ipython",
    "version": 3
   },
   "file_extension": ".py",
   "mimetype": "text/x-python",
   "name": "python",
   "nbconvert_exporter": "python",
   "pygments_lexer": "ipython3",
   "version": "3.6.4"
  }
 },
 "nbformat": 4,
 "nbformat_minor": 2
}
