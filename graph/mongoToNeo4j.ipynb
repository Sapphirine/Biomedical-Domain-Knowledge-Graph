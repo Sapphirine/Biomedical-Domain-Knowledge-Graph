{
 "cells": [
  {
   "cell_type": "code",
   "execution_count": 15,
   "metadata": {},
   "outputs": [],
   "source": [
    "from py2neo import Graph, Path\n",
    "from py2neo import Node, Relationship\n",
    "from pymongo import MongoClient\n",
    "import json\n",
    "\n",
    "config = json.load(open(\"config.json\"))\n",
    "\n",
    "graph = Graph(\"http://\"+config[\"user\"]+\":\"+config[\"password\"]+\"@\"+config[\"server\"]+\":7474\")\n",
    "\n",
    "client = MongoClient()\n",
    "client = MongoClient(config[\"server\"], 27017)\n",
    "db = client.KG"
   ]
  },
  {
   "cell_type": "markdown",
   "metadata": {},
   "source": [
    "## First add categories in the graph"
   ]
  },
  {
   "cell_type": "code",
   "execution_count": 2,
   "metadata": {},
   "outputs": [],
   "source": [
    "def clean(somestring):\n",
    "    return somestring.replace(\"'\",\"/\")"
   ]
  },
  {
   "cell_type": "code",
   "execution_count": 44,
   "metadata": {},
   "outputs": [],
   "source": [
    "def transintoneo(edges):\n",
    "    for edge in edges:\n",
    "        if edge['content'] != \"added via\":\n",
    "            pname = 'Source'\n",
    "            cname = 'Link'\n",
    "            rname = clean(edge['content'])\n",
    "            contype = 'category'\n",
    "            cat = \"Pages\"\n",
    "            transition(pname, cname, rname, contype, cat, cat, edge)\n",
    "        else:\n",
    "            pname = 'Parent'\n",
    "            cname = 'Child'\n",
    "            rname = clean(edge['content'])\n",
    "            contype = 'type'\n",
    "            cat = \"Category\"\n",
    "            transition(pname, cname, rname, contype, cat, cat, edge)\n",
    "        \n",
    "def transition(pname, cname, rname, contype, catP, catC, edge, Child):\n",
    "    #if edge[cname] is not None:\n",
    "    if True:\n",
    "        Parent = clean(edge[pname]['label'][0])\n",
    "        #Child = clean(edge[cname]['title'])\n",
    "        Child = clean(Child)\n",
    "        queryP = \"MATCH (c:\"+catP+\") WHERE c.title='\" + Parent + \"' RETURN c\"\n",
    "        queryC = \"MATCH (c:\"+catC+\") WHERE c.title='\" + Child + \"' RETURN c\"\n",
    "        if len(graph.run(queryP).data()) == 0:\n",
    "            Pa = Node(catP,title = Parent,content = edge[pname][contype])\n",
    "            graph.create(Pa)\n",
    "            #if cat == \"Pages\":\n",
    "                #addpagecategory(edge[pname])\n",
    "        else:\n",
    "            Pa = graph.run(queryP).data()\n",
    "        if len(graph.run(queryC).data()) == 0:\n",
    "            Ch = Node(catC,title = Child,content = edge[cname][contype])\n",
    "            graph.create(Ch)\n",
    "            #if cat == \"Pages\":\n",
    "                #addpagecategory(edge[cname])\n",
    "        else:\n",
    "            Ch = graph.run(queryC).data()\n",
    "        queryR = \"MATCH (p:\"+catP+\")-[r:`\"+rname+\"`]->(c:Category) WHERE (p.title='\"+Parent+\\\n",
    "                    \"' AND c.title='\"+Child+\"') RETURN p\"\n",
    "        if len(graph.run(queryR).data()) == 0:\n",
    "            createR = \"MATCH (p:\"+catP+\" {title:'\"+Parent+\"'}),(c:\"+catC+\" {title:'\"+Child+\"'})\" \\\n",
    "            \"CREATE (c)-[:`\"+rname+\"`]->(p)\"\n",
    "            #print(createR)\n",
    "            graph.run(createR)\n",
    "        else:\n",
    "            pass\n",
    "    \n",
    "def addpagecategory(page):\n",
    "    for cat in page['category']:\n",
    "        createR = \"MATCH (p:Pages {title:'\"+clean(page['title'])+\"'}),(c:Category {title:'\"+clean(cat)+\"'})\" \\\n",
    "            \"CREATE (c)-[:`Belongs To`]->(p)\"\n",
    "        graph.run(createR)\n",
    "        "
   ]
  },
  {
   "cell_type": "code",
   "execution_count": 37,
   "metadata": {
    "collapsed": true
   },
   "outputs": [],
   "source": [
    "categoriesEdges = db.cat_edges.find({})\n",
    "transintoneo(categoriesEdges)"
   ]
  },
  {
   "cell_type": "code",
   "execution_count": 14,
   "metadata": {},
   "outputs": [],
   "source": [
    "pagesEdges = db.page_edges.find({}).limit(2000)\n",
    "transintoneo(pagesEdges)"
   ]
  },
  {
   "cell_type": "markdown",
   "metadata": {
    "collapsed": true
   },
   "source": [
    "## Adding the data with dbpedia label into neo4j"
   ]
  },
  {
   "cell_type": "code",
   "execution_count": 43,
   "metadata": {},
   "outputs": [],
   "source": [
    "def addedge(edge):\n",
    "    pname = 'Source'\n",
    "    cname = 'Destination'\n",
    "    rname = clean(edge['relationship'])\n",
    "    contype = 'label'\n",
    "    catP = edge['Source']['category']\n",
    "    catC = edge['Destination']['category']\n",
    "    for Child in edge['Destination']['label']:\n",
    "        transition(pname, cname, rname, contype, catP, catC, edge, Child)"
   ]
  },
  {
   "cell_type": "code",
   "execution_count": 45,
   "metadata": {},
   "outputs": [],
   "source": [
    "def visualization():\n",
    "    edges = db.edges.find({})\n",
    "    totalamount = db.edges.find({}).count()\n",
    "    count = 0\n",
    "    for edge in edges:\n",
    "        addedge(edge)\n",
    "        if count % 100 == 0:\n",
    "            print(\"The process is \", count)\n",
    "        count += 1"
   ]
  },
  {
   "cell_type": "code",
   "execution_count": 47,
   "metadata": {},
   "outputs": [
    {
     "name": "stdout",
     "output_type": "stream",
     "text": [
      "The process is  0\n",
      "The process is  100\n",
      "The process is  200\n",
      "The process is  300\n",
      "The process is  400\n",
      "The process is  500\n",
      "The process is  600\n",
      "The process is  700\n",
      "The process is  800\n",
      "The process is  900\n",
      "The process is  1000\n",
      "The process is  1100\n"
     ]
    }
   ],
   "source": [
    "visualization()"
   ]
  },
  {
   "cell_type": "code",
   "execution_count": null,
   "metadata": {},
   "outputs": [],
   "source": []
  }
 ],
 "metadata": {
  "kernelspec": {
   "display_name": "Python 3",
   "language": "python",
   "name": "python3"
  },
  "language_info": {
   "codemirror_mode": {
    "name": "ipython",
    "version": 3
   },
   "file_extension": ".py",
   "mimetype": "text/x-python",
   "name": "python",
   "nbconvert_exporter": "python",
   "pygments_lexer": "ipython3",
   "version": "3.6.4"
  }
 },
 "nbformat": 4,
 "nbformat_minor": 2
}
