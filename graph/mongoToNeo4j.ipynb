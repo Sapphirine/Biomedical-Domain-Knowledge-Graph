{
 "cells": [
  {
   "cell_type": "code",
   "execution_count": 2,
   "metadata": {},
   "outputs": [],
   "source": [
    "from py2neo import Graph, Path\n",
    "from py2neo import Node, Relationship\n",
    "from pymongo import MongoClient\n",
    "\n",
    "graph = Graph(\"http://compute-1.amazonaws.com:7474\")\n",
    "\n",
    "client = MongoClient()\n",
    "client = MongoClient('ec2-184-73-138-19.compute-1.amazonaws.com', 27017)\n",
    "db = client.KG"
   ]
  },
  {
   "cell_type": "code",
   "execution_count": null,
   "metadata": {},
   "outputs": [],
   "source": [
    "categoriesEdges = db.cat_edges.find({})\n",
    "\n",
    "for catE in categoriesEdges:\n",
    "    queryS = \"MATCH (c:Category) WHERE c.title=\" + catE['Parent'] + \" RETURN c\"\n",
    "    queryL = \"MATCH (c:Category) WHERE c.title=\" + catE['Child'] + \" RETURN c\"\n",
    "    if len(graph.run(queryS).data()) == 0:\n",
    "        Pa = Node(\"Category\",title = cat['Parent'])\n",
    "    else:\n",
    "        \n",
    "    if len(graph.run(queryL).data()) == 0:\n",
    "        Ch = Node(\"Category\",title = cat['Child'])"
   ]
  }
 ],
 "metadata": {
  "kernelspec": {
   "display_name": "Python 3",
   "language": "python",
   "name": "python3"
  },
  "language_info": {
   "codemirror_mode": {
    "name": "ipython",
    "version": 3
   },
   "file_extension": ".py",
   "mimetype": "text/x-python",
   "name": "python",
   "nbconvert_exporter": "python",
   "pygments_lexer": "ipython3",
   "version": "3.6.4"
  }
 },
 "nbformat": 4,
 "nbformat_minor": 2
}
