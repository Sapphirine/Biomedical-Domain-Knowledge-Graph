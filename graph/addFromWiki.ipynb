{
 "cells": [
  {
   "cell_type": "code",
   "execution_count": 3,
   "metadata": {},
   "outputs": [],
   "source": [
    "import wikipediaapi\n",
    "wiki = wikipediaapi.Wikipedia('en')"
   ]
  },
  {
   "cell_type": "markdown",
   "metadata": {},
   "source": [
    "## Try Biomedical Category First"
   ]
  },
  {
   "cell_type": "code",
   "execution_count": 3,
   "metadata": {},
   "outputs": [
    {
     "name": "stdout",
     "output_type": "stream",
     "text": [
      "Category members: Category:Biomedical\n"
     ]
    }
   ],
   "source": [
    "def print_categorymembers(categorymembers, level=0, max_level=2):\n",
    "        for c in categorymembers.values():\n",
    "            print(\"%s: %s (ns: %d)\" % (\"*\" * (level + 1), c.title, c.ns))\n",
    "            if c.ns == wikipediaapi.Namespace.CATEGORY and level <= max_level:\n",
    "                print_categorymembers(c.categorymembers, level + 1)\n",
    "\n",
    "\n",
    "cat = wiki.page(\"Category:Biomedical\")\n",
    "print(\"Category members: Category:Biomedical\")\n",
    "print_categorymembers(cat.categorymembers)"
   ]
  },
  {
   "cell_type": "markdown",
   "metadata": {},
   "source": [
    "## Find Proper Category for Biomedical Field\n",
    "### From biomedical engineering introduction page"
   ]
  },
  {
   "cell_type": "code",
   "execution_count": 5,
   "metadata": {},
   "outputs": [
    {
     "data": {
      "text/plain": [
       "True"
      ]
     },
     "execution_count": 5,
     "metadata": {},
     "output_type": "execute_result"
    }
   ],
   "source": [
    "be = wiki.page('Biomedical engineering')\n",
    "be.exists()"
   ]
  },
  {
   "cell_type": "code",
   "execution_count": 7,
   "metadata": {},
   "outputs": [
    {
     "name": "stdout",
     "output_type": "stream",
     "text": [
      "Categories\n",
      "Category:All articles needing additional references Category:All articles needing additional references (id: ??, ns: 14)\n",
      "Category:Articles needing additional references from August 2017 Category:Articles needing additional references from August 2017 (id: ??, ns: 14)\n",
      "Category:Articles needing additional references from July 2017 Category:Articles needing additional references from July 2017 (id: ??, ns: 14)\n",
      "Category:Articles needing additional references from September 2016 Category:Articles needing additional references from September 2016 (id: ??, ns: 14)\n",
      "Category:Articles with Curlie links Category:Articles with Curlie links (id: ??, ns: 14)\n",
      "Category:Biological engineering Category:Biological engineering (id: ??, ns: 14)\n",
      "Category:Biomedical engineering Category:Biomedical engineering (id: ??, ns: 14)\n",
      "Category:Webarchive template wayback links Category:Webarchive template wayback links (id: ??, ns: 14)\n",
      "Category:Wikipedia articles with BNF identifiers Category:Wikipedia articles with BNF identifiers (id: ??, ns: 14)\n",
      "Category:Wikipedia articles with GND identifiers Category:Wikipedia articles with GND identifiers (id: ??, ns: 14)\n",
      "Category:Wikipedia articles with LCCN identifiers Category:Wikipedia articles with LCCN identifiers (id: ??, ns: 14)\n"
     ]
    }
   ],
   "source": [
    "be = wiki.page('Biomedical engineering')\n",
    "\n",
    "def print_categories(page):\n",
    "        categories = page.categories\n",
    "        for title in sorted(categories.keys()):\n",
    "            print(title, categories[title])\n",
    "\n",
    "\n",
    "print(\"Categories\")\n",
    "print_categories(be)"
   ]
  },
  {
   "cell_type": "markdown",
   "metadata": {},
   "source": [
    "### Find all articles in Biomedical engineering"
   ]
  },
  {
   "cell_type": "code",
   "execution_count": 22,
   "metadata": {},
   "outputs": [
    {
     "name": "stdout",
     "output_type": "stream",
     "text": [
      "Category members: Category:Biomedical engineering\n"
     ]
    }
   ],
   "source": [
    "def print_categorymembers(categorymembers, level=0, max_level=2):\n",
    "        for c in categorymembers.values():\n",
    "            print(\"%s: %s (ns: %d)\" % (\"*\" * (level + 1), c.title, c.ns))\n",
    "            if c.ns == wikipediaapi.Namespace.CATEGORY and level <= max_level:\n",
    "                print_categorymembers(c.categorymembers, level + 1)\n",
    "\n",
    "\n",
    "cat = wiki.page(\"Category:Biomedical engineering\")\n",
    "print(\"Category members: Category:Biomedical engineering\")\n",
    "#print_categorymembers(cat.categorymembers)"
   ]
  },
  {
   "cell_type": "markdown",
   "metadata": {},
   "source": [
    "### Add relationship by the links between pages"
   ]
  },
  {
   "cell_type": "code",
   "execution_count": 21,
   "metadata": {},
   "outputs": [],
   "source": [
    "be = wiki.page('Biomedical engineering')\n",
    "\n",
    "def print_links(page):\n",
    "        links = page.links\n",
    "        for title in sorted(links.keys()):\n",
    "            print(\"%s: %s\" % (title, links[title]))\n",
    "\n",
    "#print_links(be)"
   ]
  },
  {
   "cell_type": "code",
   "execution_count": 12,
   "metadata": {},
   "outputs": [
    {
     "data": {
      "text/plain": [
       "'Biomedical Equipment Technician'"
      ]
     },
     "execution_count": 12,
     "metadata": {},
     "output_type": "execute_result"
    }
   ],
   "source": [
    "test = wiki.page('Biomedical Equipment Technician')\n",
    "test.title"
   ]
  },
  {
   "cell_type": "markdown",
   "metadata": {},
   "source": [
    "## Interface with mongoDB"
   ]
  },
  {
   "cell_type": "code",
   "execution_count": 2,
   "metadata": {},
   "outputs": [],
   "source": [
    "from pymongo import MongoClient\n",
    "client = MongoClient()\n",
    "client = MongoClient('.amazonaws.com', 27017)\n",
    "db = client.KG"
   ]
  },
  {
   "cell_type": "code",
   "execution_count": 71,
   "metadata": {},
   "outputs": [
    {
     "data": {
      "text/plain": [
       "{'_id': ObjectId('5aba9fc532736325267ad2c4'),\n",
       " 'level': 1,\n",
       " 'title': 'Category:Biomedical engineering in fiction',\n",
       " 'type': 'sub_category'}"
      ]
     },
     "execution_count": 71,
     "metadata": {},
     "output_type": "execute_result"
    }
   ],
   "source": [
    "db.categories.find_one({'title':\"Category:Biomedical engineering in fiction\"})"
   ]
  },
  {
   "cell_type": "code",
   "execution_count": 1,
   "metadata": {},
   "outputs": [],
   "source": [
    "# Search all categories that is a member of main category: Biochemical Engineering\n",
    "def get_allsubcategories(cat, level = 0, max_level = 2):\n",
    "    for c in cat.categorymembers.values():\n",
    "        if c.ns == wikipediaapi.Namespace.CATEGORY and level <= max_level:\n",
    "            if db.categories.find({'title':c.title}).count() == 0:\n",
    "                db.categories.insert_one({'level':level+1, 'type':'sub_category','title':c.title,'parent':cat.title})\n",
    "                get_allsubcategories(c,level+1)\n",
    "            else:\n",
    "                minlevel = min(level+1,db.categories.find_one({'title':c.title})['level'])\n",
    "                db.categories.update_one({'title':c.title},{'$set':{'level':minlevel}})"
   ]
  },
  {
   "cell_type": "code",
   "execution_count": 4,
   "metadata": {},
   "outputs": [],
   "source": [
    "name = \"Category:Biomedical engineering\"\n",
    "cat = wiki.page(name)\n",
    "db.categories.insert_one({'level':0, 'type':'main_category','title':name})\n",
    "get_allsubcategories(cat)"
   ]
  },
  {
   "cell_type": "code",
   "execution_count": 6,
   "metadata": {},
   "outputs": [],
   "source": [
    "#For all categories, get their pages\n",
    "def get_allrelatednodes():\n",
    "    for cat in db.categories.find({}):\n",
    "        pages = wiki.page(cat['title']).categorymembers.values()\n",
    "        for page in pages:\n",
    "            if page.ns != wikipediaapi.Namespace.CATEGORY:\n",
    "                if db.pages.find({'title':page.title}).count() == 0:\n",
    "                    links = []\n",
    "                    for link in page.links.keys():\n",
    "                        links.append(link)\n",
    "                    db.pages.insert_one({'title':page.title,'category':[cat['title']],'links':links})\n",
    "                else:\n",
    "                    newcat = db.pages.find_one({'title':page.title})['category']\n",
    "                    if cat['title'] not in newcat:\n",
    "                        newcat.append(cat['title'])\n",
    "                    db.pages.update_one({'title':page.title},{'$set':{'category':newcat}})\n",
    "                    \n",
    "get_allrelatednodes()"
   ]
  },
  {
   "cell_type": "code",
   "execution_count": 14,
   "metadata": {},
   "outputs": [
    {
     "name": "stderr",
     "output_type": "stream",
     "text": [
      "/home/ec2-user/anaconda3/lib/python3.6/site-packages/ipykernel_launcher.py:1: DeprecationWarning: remove is deprecated. Use delete_one or delete_many instead.\n",
      "  \"\"\"Entry point for launching an IPython kernel.\n"
     ]
    },
    {
     "data": {
      "text/plain": [
       "{'n': 46, 'ok': 1.0}"
      ]
     },
     "execution_count": 14,
     "metadata": {},
     "output_type": "execute_result"
    }
   ],
   "source": [
    "db.cat_edges.remove({})"
   ]
  },
  {
   "cell_type": "code",
   "execution_count": 20,
   "metadata": {},
   "outputs": [],
   "source": [
    "#Link the pages and categories together\n",
    "def get_alledges():\n",
    "    #get_allcatedges()\n",
    "    get_allpageedges()\n",
    "    \n",
    "def get_allcatedges():\n",
    "    cats = db.categories.find({})\n",
    "    for cat in cats:\n",
    "        if cat['level'] > 0:\n",
    "            db.cat_edges.insert_one({'Parent':db.categories.find_one({'title':cat['parent']}),'Child':cat,'content':'added via'})\n",
    "\n",
    "def get_allpageedges():\n",
    "    pages = db.pages.find({})\n",
    "    for page in pages:\n",
    "        for linktitle in page['links']:\n",
    "            linkpage = db.pages.find_one({'title':linktitle})\n",
    "            if db.page_edges.find({'Source':page,'Link':linkpage}).count() == 0:\n",
    "                db.page_edges.insert_one({'Source':page,'Link':linkpage,'content':'has link to'})\n",
    "            else:\n",
    "                db.page_edges.update_one({'Source':page,'Link':linkpage},{'$set':{'content':'linked with each other'}})\n",
    "\n",
    "get_alledges()"
   ]
  },
  {
   "cell_type": "code",
   "execution_count": null,
   "metadata": {},
   "outputs": [],
   "source": []
  }
 ],
 "metadata": {
  "kernelspec": {
   "display_name": "Python 3",
   "language": "python",
   "name": "python3"
  },
  "language_info": {
   "codemirror_mode": {
    "name": "ipython",
    "version": 3
   },
   "file_extension": ".py",
   "mimetype": "text/x-python",
   "name": "python",
   "nbconvert_exporter": "python",
   "pygments_lexer": "ipython3",
   "version": "3.6.4"
  }
 },
 "nbformat": 4,
 "nbformat_minor": 2
}
