{
 "cells": [
  {
   "cell_type": "code",
   "execution_count": 1,
   "metadata": {
    "collapsed": true
   },
   "outputs": [],
   "source": [
    "import wikipediaapi\n",
    "wiki = wikipediaapi.Wikipedia('en')"
   ]
  },
  {
   "cell_type": "markdown",
   "metadata": {},
   "source": [
    "## Try Biomedical Category First"
   ]
  },
  {
   "cell_type": "code",
   "execution_count": 2,
   "metadata": {},
   "outputs": [
    {
     "name": "stdout",
     "output_type": "stream",
     "text": [
      "Category members: Category:Biomedical\n"
     ]
    }
   ],
   "source": [
    "def print_categorymembers(categorymembers, level=0, max_level=2):\n",
    "        for c in categorymembers.values():\n",
    "            print(\"%s: %s (ns: %d)\" % (\"*\" * (level + 1), c.title, c.ns))\n",
    "            if c.ns == wikipediaapi.Namespace.CATEGORY and level <= max_level:\n",
    "                print_categorymembers(c.categorymembers, level + 1)\n",
    "\n",
    "\n",
    "cat = wiki.page(\"Category:Biomedical\")\n",
    "print(\"Category members: Category:Biomedical\")\n",
    "print_categorymembers(cat.categorymembers)"
   ]
  },
  {
   "cell_type": "markdown",
   "metadata": {},
   "source": [
    "## Find Proper Category for Biomedical Field\n",
    "### From biomedical engineering introduction page"
   ]
  },
  {
   "cell_type": "code",
   "execution_count": 3,
   "metadata": {},
   "outputs": [
    {
     "data": {
      "text/plain": [
       "True"
      ]
     },
     "execution_count": 3,
     "metadata": {},
     "output_type": "execute_result"
    }
   ],
   "source": [
    "be = wiki.page('Biomedical engineering')\n",
    "be.exists()"
   ]
  },
  {
   "cell_type": "code",
   "execution_count": 4,
   "metadata": {},
   "outputs": [
    {
     "data": {
      "text/plain": [
       "True"
      ]
     },
     "execution_count": 4,
     "metadata": {},
     "output_type": "execute_result"
    }
   ],
   "source": [
    "be = wiki.page('Biomedical sciences')\n",
    "be.exists()"
   ]
  },
  {
   "cell_type": "code",
   "execution_count": 5,
   "metadata": {},
   "outputs": [
    {
     "data": {
      "text/plain": [
       "True"
      ]
     },
     "execution_count": 5,
     "metadata": {},
     "output_type": "execute_result"
    }
   ],
   "source": [
    "be = wiki.page('Biomedicine')\n",
    "be.exists()"
   ]
  },
  {
   "cell_type": "code",
   "execution_count": 6,
   "metadata": {},
   "outputs": [
    {
     "name": "stdout",
     "output_type": "stream",
     "text": [
      "Categories\n",
      "Category:Biomedicine Category:Biomedicine (id: ??, ns: 14)\n",
      "Category:Branches of biology Category:Branches of biology (id: ??, ns: 14)\n",
      "Category:Pages using Columns-list with deprecated parameters Category:Pages using Columns-list with deprecated parameters (id: ??, ns: 14)\n",
      "Category:Pages using div col without cols and colwidth parameters Category:Pages using div col without cols and colwidth parameters (id: ??, ns: 14)\n",
      "Category:Veterinary medicine Category:Veterinary medicine (id: ??, ns: 14)\n",
      "Category:Webarchive template wayback links Category:Webarchive template wayback links (id: ??, ns: 14)\n"
     ]
    }
   ],
   "source": [
    "be = wiki.page('Biomedical')\n",
    "\n",
    "def print_categories(page):\n",
    "        categories = page.categories\n",
    "        for title in sorted(categories.keys()):\n",
    "            print(title, categories[title])\n",
    "\n",
    "\n",
    "print(\"Categories\")\n",
    "print_categories(be)"
   ]
  },
  {
   "cell_type": "markdown",
   "metadata": {},
   "source": [
    "### Find all articles in Biomedical engineering"
   ]
  },
  {
   "cell_type": "code",
   "execution_count": 7,
   "metadata": {},
   "outputs": [
    {
     "name": "stdout",
     "output_type": "stream",
     "text": [
      "Category members: Category:Biomedical engineering\n"
     ]
    }
   ],
   "source": [
    "def print_categorymembers(categorymembers, level=0, max_level=2):\n",
    "        for c in categorymembers.values():\n",
    "            print(\"%s: %s (ns: %d)\" % (\"*\" * (level + 1), c.title, c.ns))\n",
    "            if c.ns == wikipediaapi.Namespace.CATEGORY and level <= max_level:\n",
    "                print_categorymembers(c.categorymembers, level + 1)\n",
    "\n",
    "\n",
    "cat = wiki.page(\"Category:Biomedical engineering\")\n",
    "print(\"Category members: Category:Biomedical engineering\")\n",
    "#print_categorymembers(cat.categorymembers)"
   ]
  },
  {
   "cell_type": "markdown",
   "metadata": {},
   "source": [
    "### Add relationship by the links between pages"
   ]
  },
  {
   "cell_type": "code",
   "execution_count": 8,
   "metadata": {},
   "outputs": [
    {
     "name": "stdout",
     "output_type": "stream",
     "text": [
      "Addiction medicine: Addiction medicine (id: ??, ns: 0)\n",
      "Adenosine triphosphate: Adenosine triphosphate (id: ??, ns: 0)\n",
      "Adolescent medicine: Adolescent medicine (id: ??, ns: 0)\n",
      "Allergy: Allergy (id: ??, ns: 0)\n",
      "Allied health: Allied health (id: ??, ns: 0)\n",
      "Anatomical pathology: Anatomical pathology (id: ??, ns: 0)\n",
      "Anatomy: Anatomy (id: ??, ns: 0)\n",
      "Andrology: Andrology (id: ??, ns: 0)\n",
      "Anesthesiology: Anesthesiology (id: ??, ns: 0)\n",
      "Angiology: Angiology (id: ??, ns: 0)\n",
      "Bachelor of Medical Sciences: Bachelor of Medical Sciences (id: ??, ns: 0)\n",
      "Bachelor of Medicine, Bachelor of Surgery: Bachelor of Medicine, Bachelor of Surgery (id: ??, ns: 0)\n",
      "BioMedicines (company): BioMedicines (company) (id: ??, ns: 0)\n",
      "Biochemistry: Biochemistry (id: ??, ns: 0)\n",
      "Bioinformatics: Bioinformatics (id: ??, ns: 0)\n",
      "Biological engineering: Biological engineering (id: ??, ns: 0)\n",
      "Biology: Biology (id: ??, ns: 0)\n",
      "Biomedical sciences: Biomedical sciences (id: ??, ns: 0)\n",
      "Biostatistics: Biostatistics (id: ??, ns: 0)\n",
      "Biotechnology: Biotechnology (id: ??, ns: 0)\n",
      "Blotting: Blotting (id: ??, ns: 0)\n",
      "Book:Medicine: Book:Medicine (id: ??, ns: 108)\n",
      "Carbohydrates: Carbohydrates (id: ??, ns: 0)\n",
      "Carcinogenesis: Carcinogenesis (id: ??, ns: 0)\n",
      "Cardiac surgery: Cardiac surgery (id: ??, ns: 0)\n",
      "Cardiology: Cardiology (id: ??, ns: 0)\n",
      "Cardiophysics: Cardiophysics (id: ??, ns: 0)\n",
      "Cardiothoracic surgery: Cardiothoracic surgery (id: ??, ns: 0)\n",
      "Cell biology: Cell biology (id: ??, ns: 0)\n",
      "Chief physician: Chief physician (id: ??, ns: 0)\n",
      "Clinical chemistry: Clinical chemistry (id: ??, ns: 0)\n",
      "Clinical immunology: Clinical immunology (id: ??, ns: 0)\n",
      "Clinical neurophysiology: Clinical neurophysiology (id: ??, ns: 0)\n",
      "Clinical pathology: Clinical pathology (id: ??, ns: 0)\n",
      "Clinical practice: Clinical practice (id: ??, ns: 0)\n",
      "Colorectal surgery: Colorectal surgery (id: ??, ns: 0)\n",
      "Convention for the Protection of Human Rights and Dignity of the Human Being with regard to the Application of Biology and Medicine: Convention for the Protection of Human Rights and Dignity of the Human Being with regard to the Application of Biology and Medicine (id: ??, ns: 0)\n",
      "Cystic fibrosis: Cystic fibrosis (id: ??, ns: 0)\n",
      "Cytogenetics: Cytogenetics (id: ??, ns: 0)\n",
      "Cytopathology: Cytopathology (id: ??, ns: 0)\n",
      "DNA polymerase: DNA polymerase (id: ??, ns: 0)\n",
      "Dentistry: Dentistry (id: ??, ns: 0)\n",
      "Dermatology: Dermatology (id: ??, ns: 0)\n",
      "Diagnostic: Diagnostic (id: ??, ns: 0)\n",
      "Digital object identifier: Digital object identifier (id: ??, ns: 0)\n",
      "Disaster medicine: Disaster medicine (id: ??, ns: 0)\n",
      "Diving medicine: Diving medicine (id: ??, ns: 0)\n",
      "Doctor of Medicine: Doctor of Medicine (id: ??, ns: 0)\n",
      "Doctor of Osteopathic Medicine: Doctor of Osteopathic Medicine (id: ??, ns: 0)\n",
      "Embryology: Embryology (id: ??, ns: 0)\n",
      "Emergency medicine: Emergency medicine (id: ??, ns: 0)\n",
      "Endocrinology: Endocrinology (id: ??, ns: 0)\n",
      "Eye surgery: Eye surgery (id: ??, ns: 0)\n",
      "Family medicine: Family medicine (id: ??, ns: 0)\n",
      "Gastroenterology: Gastroenterology (id: ??, ns: 0)\n",
      "Gel electrophoresis: Gel electrophoresis (id: ??, ns: 0)\n",
      "Gene therapy: Gene therapy (id: ??, ns: 0)\n",
      "General practitioner: General practitioner (id: ??, ns: 0)\n",
      "General surgery: General surgery (id: ??, ns: 0)\n",
      "Genetics: Genetics (id: ??, ns: 0)\n",
      "Genome: Genome (id: ??, ns: 0)\n",
      "Geriatrics: Geriatrics (id: ??, ns: 0)\n",
      "Glucose: Glucose (id: ??, ns: 0)\n",
      "Gynaecology: Gynaecology (id: ??, ns: 0)\n",
      "Gynecologic oncology: Gynecologic oncology (id: ??, ns: 0)\n",
      "HIV: HIV (id: ??, ns: 0)\n",
      "Hand surgery: Hand surgery (id: ??, ns: 0)\n",
      "Health: Health (id: ??, ns: 0)\n",
      "Health care: Health care (id: ??, ns: 0)\n",
      "Hematology: Hematology (id: ??, ns: 0)\n",
      "Hepatology: Hepatology (id: ??, ns: 0)\n",
      "History of medicine: History of medicine (id: ??, ns: 0)\n",
      "Hospital medicine: Hospital medicine (id: ??, ns: 0)\n",
      "Human Genome Project: Human Genome Project (id: ??, ns: 0)\n",
      "Immunology: Immunology (id: ??, ns: 0)\n",
      "In vitro diagnostics: In vitro diagnostics (id: ??, ns: 0)\n",
      "In vitro fertilisation: In vitro fertilisation (id: ??, ns: 0)\n",
      "In vivo: In vivo (id: ??, ns: 0)\n",
      "Infectious disease (medical specialty): Infectious disease (medical specialty) (id: ??, ns: 0)\n",
      "Intensive-care medicine: Intensive-care medicine (id: ??, ns: 0)\n",
      "Internal medicine: Internal medicine (id: ??, ns: 0)\n",
      "International Standard Book Number: International Standard Book Number (id: ??, ns: 0)\n",
      "Interventional radiology: Interventional radiology (id: ??, ns: 0)\n",
      "J. William Schopf: J. William Schopf (id: ??, ns: 0)\n",
      "Laboratory diagnostics: Laboratory diagnostics (id: ??, ns: 0)\n",
      "Laboratory medical biology: Laboratory medical biology (id: ??, ns: 0)\n",
      "Life sciences: Life sciences (id: ??, ns: 0)\n",
      "Lipid: Lipid (id: ??, ns: 0)\n",
      "MD–PhD: MD–PhD (id: ??, ns: 0)\n",
      "Mass-gathering medicine: Mass-gathering medicine (id: ??, ns: 0)\n",
      "Master of Medicine: Master of Medicine (id: ??, ns: 0)\n",
      "Master of Surgery: Master of Surgery (id: ??, ns: 0)\n",
      "Maternal–fetal medicine: Maternal–fetal medicine (id: ??, ns: 0)\n",
      "Medical diagnosis: Medical diagnosis (id: ??, ns: 0)\n",
      "Medical education: Medical education (id: ??, ns: 0)\n",
      "Medical genetics: Medical genetics (id: ??, ns: 0)\n",
      "Medical microbiology: Medical microbiology (id: ??, ns: 0)\n",
      "Medical physics: Medical physics (id: ??, ns: 0)\n",
      "Medical school: Medical school (id: ??, ns: 0)\n",
      "Medicinal chemistry: Medicinal chemistry (id: ??, ns: 0)\n",
      "Medicine: Medicine (id: ??, ns: 0)\n",
      "Metabolome: Metabolome (id: ??, ns: 0)\n",
      "Microbiology: Microbiology (id: ??, ns: 0)\n",
      "Molecular biology: Molecular biology (id: ??, ns: 0)\n",
      "Molecular interaction: Molecular interaction (id: ??, ns: 0)\n",
      "Molecular medicine: Molecular medicine (id: ??, ns: 0)\n",
      "Molecular oncology: Molecular oncology (id: ??, ns: 0)\n",
      "Nanobiotechnology: Nanobiotechnology (id: ??, ns: 0)\n",
      "Nanomedicine: Nanomedicine (id: ??, ns: 0)\n",
      "Neonatology: Neonatology (id: ??, ns: 0)\n",
      "Nephrology: Nephrology (id: ??, ns: 0)\n",
      "Neurology: Neurology (id: ??, ns: 0)\n",
      "Neuroscience: Neuroscience (id: ??, ns: 0)\n",
      "Neurosurgery: Neurosurgery (id: ??, ns: 0)\n",
      "Nuclear medicine: Nuclear medicine (id: ??, ns: 0)\n",
      "Nucleic acid: Nucleic acid (id: ??, ns: 0)\n",
      "Nucleotide bases: Nucleotide bases (id: ??, ns: 0)\n",
      "Obstetrics: Obstetrics (id: ??, ns: 0)\n",
      "Obstetrics and gynaecology: Obstetrics and gynaecology (id: ??, ns: 0)\n",
      "Occupational medicine: Occupational medicine (id: ??, ns: 0)\n",
      "Oncology: Oncology (id: ??, ns: 0)\n",
      "Ophthalmology: Ophthalmology (id: ??, ns: 0)\n",
      "Oral and maxillofacial surgery: Oral and maxillofacial surgery (id: ??, ns: 0)\n",
      "Oral medicine: Oral medicine (id: ??, ns: 0)\n",
      "Organ transplantation: Organ transplantation (id: ??, ns: 0)\n",
      "Orthopedic surgery: Orthopedic surgery (id: ??, ns: 0)\n",
      "Otolaryngology: Otolaryngology (id: ??, ns: 0)\n",
      "Outline of medicine: Outline of medicine (id: ??, ns: 0)\n",
      "Pain management: Pain management (id: ??, ns: 0)\n",
      "Palliative care: Palliative care (id: ??, ns: 0)\n",
      "Parasitology: Parasitology (id: ??, ns: 0)\n",
      "Pathology: Pathology (id: ??, ns: 0)\n",
      "Pathophysiology: Pathophysiology (id: ??, ns: 0)\n",
      "Pediatric surgery: Pediatric surgery (id: ??, ns: 0)\n",
      "Pediatrics: Pediatrics (id: ??, ns: 0)\n",
      "Personalized medicine: Personalized medicine (id: ??, ns: 0)\n",
      "Phosphate: Phosphate (id: ??, ns: 0)\n",
      "Physical medicine and rehabilitation: Physical medicine and rehabilitation (id: ??, ns: 0)\n",
      "Physician: Physician (id: ??, ns: 0)\n",
      "Physiological: Physiological (id: ??, ns: 0)\n",
      "Physiology: Physiology (id: ??, ns: 0)\n",
      "Physiome: Physiome (id: ??, ns: 0)\n",
      "Physiotherapy: Physiotherapy (id: ??, ns: 0)\n",
      "Plastic surgery: Plastic surgery (id: ??, ns: 0)\n",
      "Podiatry: Podiatry (id: ??, ns: 0)\n",
      "Polymerase chain reaction: Polymerase chain reaction (id: ??, ns: 0)\n",
      "Preventive medicine: Preventive medicine (id: ??, ns: 0)\n",
      "Primer (molecular biology): Primer (molecular biology) (id: ??, ns: 0)\n",
      "Proteins: Proteins (id: ??, ns: 0)\n",
      "Proteome: Proteome (id: ??, ns: 0)\n",
      "Psychiatry: Psychiatry (id: ??, ns: 0)\n",
      "PubMed Central: PubMed Central (id: ??, ns: 0)\n",
      "PubMed Identifier: PubMed Identifier (id: ??, ns: 0)\n",
      "Public health: Public health (id: ??, ns: 0)\n",
      "Pulmonology: Pulmonology (id: ??, ns: 0)\n",
      "Radiation oncology: Radiation oncology (id: ??, ns: 0)\n",
      "Radiology: Radiology (id: ??, ns: 0)\n",
      "Reproductive endocrinology and infertility: Reproductive endocrinology and infertility (id: ??, ns: 0)\n",
      "Reproductive medicine: Reproductive medicine (id: ??, ns: 0)\n",
      "Reproductive surgery: Reproductive surgery (id: ??, ns: 0)\n",
      "Rheumatology: Rheumatology (id: ??, ns: 0)\n",
      "Sexual medicine: Sexual medicine (id: ??, ns: 0)\n",
      "Single-nucleotide polymorphism: Single-nucleotide polymorphism (id: ??, ns: 0)\n",
      "Sleep medicine: Sleep medicine (id: ??, ns: 0)\n",
      "Specialty (medicine): Specialty (medicine) (id: ??, ns: 0)\n",
      "Sports medicine: Sports medicine (id: ??, ns: 0)\n",
      "Subspecialty: Subspecialty (id: ??, ns: 0)\n",
      "Surgery: Surgery (id: ??, ns: 0)\n",
      "Surgical oncology: Surgical oncology (id: ??, ns: 0)\n",
      "Systems biology: Systems biology (id: ??, ns: 0)\n",
      "Template talk:Medicine: Template talk:Medicine (id: ??, ns: 11)\n",
      "Template:Medicine: Template:Medicine (id: ??, ns: 10)\n",
      "The Cancer Genome Atlas: The Cancer Genome Atlas (id: ??, ns: 0)\n",
      "Therapy: Therapy (id: ??, ns: 0)\n",
      "Thoracic surgery: Thoracic surgery (id: ??, ns: 0)\n",
      "Toxicology: Toxicology (id: ??, ns: 0)\n",
      "Transcriptome: Transcriptome (id: ??, ns: 0)\n",
      "Transfusion medicine: Transfusion medicine (id: ??, ns: 0)\n",
      "Transplantation medicine: Transplantation medicine (id: ??, ns: 0)\n",
      "Trauma surgery: Trauma surgery (id: ??, ns: 0)\n",
      "Travel medicine: Travel medicine (id: ??, ns: 0)\n",
      "Tropical medicine: Tropical medicine (id: ??, ns: 0)\n",
      "Urogynecology: Urogynecology (id: ??, ns: 0)\n",
      "Urology: Urology (id: ??, ns: 0)\n",
      "Vascular surgery: Vascular surgery (id: ??, ns: 0)\n",
      "Venereology: Venereology (id: ??, ns: 0)\n",
      "Veterinary medicine: Veterinary medicine (id: ??, ns: 0)\n",
      "Virology: Virology (id: ??, ns: 0)\n",
      "Virus: Virus (id: ??, ns: 0)\n",
      "Wayback Machine: Wayback Machine (id: ??, ns: 0)\n"
     ]
    }
   ],
   "source": [
    "be = wiki.page('Biomedical')\n",
    "\n",
    "def print_links(page):\n",
    "        links = page.links\n",
    "        for title in sorted(links.keys()):\n",
    "            print(\"%s: %s\" % (title, links[title]))\n",
    "\n",
    "print_links(be)"
   ]
  },
  {
   "cell_type": "code",
   "execution_count": 9,
   "metadata": {},
   "outputs": [
    {
     "data": {
      "text/plain": [
       "'Biomedical Equipment Technician'"
      ]
     },
     "execution_count": 9,
     "metadata": {},
     "output_type": "execute_result"
    }
   ],
   "source": [
    "test = wiki.page('Biomedical Equipment Technician')\n",
    "test.title"
   ]
  },
  {
   "cell_type": "markdown",
   "metadata": {},
   "source": [
    "## Interface with mongoDB"
   ]
  },
  {
   "cell_type": "code",
   "execution_count": 10,
   "metadata": {
    "collapsed": true
   },
   "outputs": [],
   "source": [
    "from pymongo import MongoClient\n",
    "import json\n",
    "\n",
    "config = json.load(open(\"config.json\"))\n",
    "\n",
    "client = MongoClient()\n",
    "client = MongoClient(config[\"server\"], 27017)\n",
    "db = client.Biomedical"
   ]
  },
  {
   "cell_type": "code",
   "execution_count": 11,
   "metadata": {
    "collapsed": true
   },
   "outputs": [],
   "source": [
    "# Search all categories that is a member of main category: Biochemical\n",
    "def get_allsubcategories(cat, level = 0, max_level = 8):\n",
    "    for c in cat.categorymembers.values():\n",
    "        if c.ns == wikipediaapi.Namespace.CATEGORY and level <= max_level:\n",
    "            if db.categories.find({'title':c.title}).count() == 0:\n",
    "                db.categories.insert_one({'level':level+1, 'type':'sub_category','title':c.title,'parent':cat.title})\n",
    "                get_allsubcategories(c,level+1)\n",
    "            else:\n",
    "                minlevel = min(level+1,db.categories.find_one({'title':c.title})['level'])\n",
    "                db.categories.update_one({'title':c.title},{'$set':{'level':minlevel}})"
   ]
  },
  {
   "cell_type": "code",
   "execution_count": 12,
   "metadata": {
    "collapsed": true
   },
   "outputs": [],
   "source": [
    "names = [\"Category:Biomedical\",\"Category:Biomedical engineering\",\"Category:Biomedical sicences\",\"Category:Biomedicine\"]\n",
    "for name in names:\n",
    "    cat = wiki.page(name)\n",
    "    db.categories.insert_one({'level':0, 'type':'main_category','title':name})\n",
    "    get_allsubcategories(cat)"
   ]
  },
  {
   "cell_type": "code",
   "execution_count": null,
   "metadata": {},
   "outputs": [
    {
     "name": "stdout",
     "output_type": "stream",
     "text": [
      "No links for Ultimate Comics: Avengers\n",
      "No links for Ultimate Comics: The Ultimates\n"
     ]
    }
   ],
   "source": [
    "#For all categories, get their pages\n",
    "def get_allrelatednodes():\n",
    "    for cat in db.categories.find({},no_cursor_timeout=True):\n",
    "        pages = wiki.page(cat['title']).categorymembers.values()\n",
    "        for page in pages:\n",
    "            if page.ns != wikipediaapi.Namespace.CATEGORY:\n",
    "                if db.pages.find({'title':page.title}).count() == 0:\n",
    "                    links = []\n",
    "                    try:\n",
    "                        for link in page.links.keys():\n",
    "                            links.append(link)\n",
    "                        db.pages.insert_one({'title':page.title,'category':[cat['title']],'links':links})\n",
    "                    except:\n",
    "                        print(\"No links for \"+page.title)\n",
    "                else:\n",
    "                    newcat = db.pages.find_one({'title':page.title})['category']\n",
    "                    if cat['title'] not in newcat:\n",
    "                        newcat.append(cat['title'])\n",
    "                    db.pages.update_one({'title':page.title},{'$set':{'category':newcat}})\n",
    "                    \n",
    "get_allrelatednodes()"
   ]
  },
  {
   "cell_type": "code",
   "execution_count": 18,
   "metadata": {
    "collapsed": true
   },
   "outputs": [],
   "source": [
    "pages = wiki.page(\"Category:Biomedical scientist\").categorymembers.values()\n",
    "for page in pages:\n",
    "    print(page)"
   ]
  },
  {
   "cell_type": "code",
   "execution_count": 20,
   "metadata": {
    "collapsed": true
   },
   "outputs": [],
   "source": [
    "#Link the pages and categories together\n",
    "def get_alledges():\n",
    "    get_allcatedges()\n",
    "    get_allpageedges()\n",
    "    \n",
    "def get_allcatedges():\n",
    "    cats = db.categories.find({})\n",
    "    for cat in cats:\n",
    "        if cat['level'] > 0:\n",
    "            db.cat_edges.insert_one({'Parent':db.categories.find_one({'title':cat['parent']}),'Child':cat,'content':'added via'})\n",
    "\n",
    "def get_allpageedges():\n",
    "    pages = db.pages.find({})\n",
    "    for page in pages:\n",
    "        for linktitle in page['links']:\n",
    "            linkpage = db.pages.find_one({'title':linktitle})\n",
    "            if db.page_edges.find({'Source':page,'Link':linkpage}).count() == 0:\n",
    "                db.page_edges.insert_one({'Source':page,'Link':linkpage,'content':'has link to'})\n",
    "            else:\n",
    "                db.page_edges.update_one({'Source':page,'Link':linkpage},{'$set':{'content':'linked with each other'}})\n",
    "\n",
    "#get_alledges()"
   ]
  },
  {
   "cell_type": "code",
   "execution_count": 71,
   "metadata": {},
   "outputs": [
    {
     "data": {
      "text/plain": [
       "{'_id': ObjectId('5aba9fc532736325267ad2c4'),\n",
       " 'level': 1,\n",
       " 'title': 'Category:Biomedical engineering in fiction',\n",
       " 'type': 'sub_category'}"
      ]
     },
     "execution_count": 71,
     "metadata": {},
     "output_type": "execute_result"
    }
   ],
   "source": [
    "db.categories.find_one({'title':\"Category:Biomedical engineering in fiction\"})"
   ]
  },
  {
   "cell_type": "code",
   "execution_count": 13,
   "metadata": {},
   "outputs": [
    {
     "name": "stderr",
     "output_type": "stream",
     "text": [
      "F:\\python\\Lib\\site-packages\\ipykernel_launcher.py:1: DeprecationWarning: remove is deprecated. Use delete_one or delete_many instead.\n",
      "  \"\"\"Entry point for launching an IPython kernel.\n"
     ]
    },
    {
     "data": {
      "text/plain": [
       "{'n': 6115, 'ok': 1.0}"
      ]
     },
     "execution_count": 13,
     "metadata": {},
     "output_type": "execute_result"
    }
   ],
   "source": [
    "db.pages.remove({})"
   ]
  },
  {
   "cell_type": "code",
   "execution_count": null,
   "metadata": {
    "collapsed": true
   },
   "outputs": [],
   "source": []
  }
 ],
 "metadata": {
  "kernelspec": {
   "display_name": "Python 3",
   "language": "python",
   "name": "python3"
  },
  "language_info": {
   "codemirror_mode": {
    "name": "ipython",
    "version": 3
   },
   "file_extension": ".py",
   "mimetype": "text/x-python",
   "name": "python",
   "nbconvert_exporter": "python",
   "pygments_lexer": "ipython3",
   "version": "3.6.2"
  }
 },
 "nbformat": 4,
 "nbformat_minor": 2
}
