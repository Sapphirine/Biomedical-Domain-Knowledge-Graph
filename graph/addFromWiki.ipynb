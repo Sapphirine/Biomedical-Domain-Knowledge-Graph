{
 "cells": [
  {
   "cell_type": "code",
   "execution_count": 1,
   "metadata": {},
   "outputs": [],
   "source": [
    "import wikipediaapi\n",
    "wiki = wikipediaapi.Wikipedia('en')"
   ]
  },
  {
   "cell_type": "markdown",
   "metadata": {},
   "source": [
    "## Try Biomedical Category First"
   ]
  },
  {
   "cell_type": "code",
   "execution_count": 2,
   "metadata": {},
   "outputs": [
    {
     "name": "stdout",
     "output_type": "stream",
     "text": [
      "Category members: Category:Biomedical\n"
     ]
    }
   ],
   "source": [
    "def print_categorymembers(categorymembers, level=0, max_level=2):\n",
    "        for c in categorymembers.values():\n",
    "            print(\"%s: %s (ns: %d)\" % (\"*\" * (level + 1), c.title, c.ns))\n",
    "            if c.ns == wikipediaapi.Namespace.CATEGORY and level <= max_level:\n",
    "                print_categorymembers(c.categorymembers, level + 1)\n",
    "\n",
    "\n",
    "cat = wiki.page(\"Category:Biomedical\")\n",
    "print(\"Category members: Category:Biomedical\")\n",
    "print_categorymembers(cat.categorymembers)"
   ]
  },
  {
   "cell_type": "markdown",
   "metadata": {},
   "source": [
    "## Find Proper Category for Biomedical Field\n",
    "### From biomedical engineering introduction page"
   ]
  },
  {
   "cell_type": "code",
   "execution_count": 3,
   "metadata": {},
   "outputs": [
    {
     "data": {
      "text/plain": [
       "True"
      ]
     },
     "execution_count": 3,
     "metadata": {},
     "output_type": "execute_result"
    }
   ],
   "source": [
    "be = wiki.page('Biomedical engineering')\n",
    "be.exists()"
   ]
  },
  {
   "cell_type": "code",
   "execution_count": 19,
   "metadata": {},
   "outputs": [
    {
     "data": {
      "text/plain": [
       "True"
      ]
     },
     "execution_count": 19,
     "metadata": {},
     "output_type": "execute_result"
    }
   ],
   "source": [
    "be = wiki.page('Biomedical sciences')\n",
    "be.exists()"
   ]
  },
  {
   "cell_type": "code",
   "execution_count": 5,
   "metadata": {},
   "outputs": [
    {
     "data": {
      "text/plain": [
       "True"
      ]
     },
     "execution_count": 5,
     "metadata": {},
     "output_type": "execute_result"
    }
   ],
   "source": [
    "be = wiki.page('Biomedicine')\n",
    "be.exists()"
   ]
  },
  {
   "cell_type": "code",
   "execution_count": 16,
   "metadata": {},
   "outputs": [
    {
     "name": "stdout",
     "output_type": "stream",
     "text": [
      "Categories\n",
      "Category:Biomedicine Category:Biomedicine (id: ??, ns: 14)\n",
      "Category:Branches of biology Category:Branches of biology (id: ??, ns: 14)\n",
      "Category:Pages using Columns-list with deprecated parameters Category:Pages using Columns-list with deprecated parameters (id: ??, ns: 14)\n",
      "Category:Pages using div col without cols and colwidth parameters Category:Pages using div col without cols and colwidth parameters (id: ??, ns: 14)\n",
      "Category:Veterinary medicine Category:Veterinary medicine (id: ??, ns: 14)\n",
      "Category:Webarchive template wayback links Category:Webarchive template wayback links (id: ??, ns: 14)\n"
     ]
    }
   ],
   "source": [
    "be = wiki.page('Biomedical')\n",
    "\n",
    "def print_categories(page):\n",
    "        categories = page.categories\n",
    "        for title in sorted(categories.keys()):\n",
    "            print(title, categories[title])\n",
    "\n",
    "\n",
    "print(\"Categories\")\n",
    "print_categories(be)"
   ]
  },
  {
   "cell_type": "markdown",
   "metadata": {},
   "source": [
    "### Find all articles in Biomedical engineering"
   ]
  },
  {
   "cell_type": "code",
   "execution_count": 6,
   "metadata": {},
   "outputs": [
    {
     "name": "stdout",
     "output_type": "stream",
     "text": [
      "Category members: Category:Biomedical engineering\n"
     ]
    }
   ],
   "source": [
    "def print_categorymembers(categorymembers, level=0, max_level=2):\n",
    "        for c in categorymembers.values():\n",
    "            print(\"%s: %s (ns: %d)\" % (\"*\" * (level + 1), c.title, c.ns))\n",
    "            if c.ns == wikipediaapi.Namespace.CATEGORY and level <= max_level:\n",
    "                print_categorymembers(c.categorymembers, level + 1)\n",
    "\n",
    "\n",
    "cat = wiki.page(\"Category:Biomedical engineering\")\n",
    "print(\"Category members: Category:Biomedical engineering\")\n",
    "#print_categorymembers(cat.categorymembers)"
   ]
  },
  {
   "cell_type": "markdown",
   "metadata": {},
   "source": [
    "### Add relationship by the links between pages"
   ]
  },
  {
   "cell_type": "code",
   "execution_count": 7,
   "metadata": {},
   "outputs": [],
   "source": [
    "be = wiki.page('Biomedical')\n",
    "\n",
    "def print_links(page):\n",
    "        links = page.links\n",
    "        for title in sorted(links.keys()):\n",
    "            print(\"%s: %s\" % (title, links[title]))\n",
    "\n",
    "#print_links(be)"
   ]
  },
  {
   "cell_type": "code",
   "execution_count": 8,
   "metadata": {},
   "outputs": [
    {
     "data": {
      "text/plain": [
       "'Biomedical Equipment Technician'"
      ]
     },
     "execution_count": 8,
     "metadata": {},
     "output_type": "execute_result"
    }
   ],
   "source": [
    "test = wiki.page('Biomedical Equipment Technician')\n",
    "test.title"
   ]
  },
  {
   "cell_type": "markdown",
   "metadata": {},
   "source": [
    "## Interface with mongoDB"
   ]
  },
  {
   "cell_type": "code",
   "execution_count": 26,
   "metadata": {},
   "outputs": [],
   "source": [
    "from pymongo import MongoClient\n",
    "import json\n",
    "\n",
    "config = json.load(open(\"config.json\"))\n",
    "\n",
    "client = MongoClient()\n",
    "client = MongoClient(config[\"server\"], 27017)\n",
    "db = client.Biomedical"
   ]
  },
  {
   "cell_type": "code",
   "execution_count": 28,
   "metadata": {},
   "outputs": [],
   "source": [
    "# Search all categories that is a member of main category: Biochemical\n",
    "def get_allsubcategories(cat, level = 0, max_level = 8):\n",
    "    for c in cat.categorymembers.values():\n",
    "        if c.ns == wikipediaapi.Namespace.CATEGORY and level <= max_level:\n",
    "            if db.categories.find({'title':c.title}).count() == 0:\n",
    "                print(c)\n",
    "                db.categories.insert_one({'level':level+1, 'type':'sub_category','title':c.title,'parent':cat.title})\n",
    "                get_allsubcategories(c,level+1)\n",
    "            else:\n",
    "                minlevel = min(level+1,db.categories.find_one({'title':c.title})['level'])\n",
    "                db.categories.update_one({'title':c.title},{'$set':{'level':minlevel}})"
   ]
  },
  {
   "cell_type": "code",
   "execution_count": null,
   "metadata": {},
   "outputs": [
    {
     "name": "stdout",
     "output_type": "stream",
     "text": [
      "Category:Biomedical engineering in fiction (id: ??, ns: 14)\n",
      "Category:Cyborgs in fiction (id: ??, ns: 14)\n",
      "Category:Cyborg comics (id: ??, ns: 14)\n",
      "Category:RoboCop comics (id: ??, ns: 14)\n",
      "Category:Transhumanism in comics (id: ??, ns: 14)\n",
      "Category:Superheroes by publisher (id: ??, ns: 14)\n",
      "Category:America's Best Comics superheroes (id: ??, ns: 14)\n",
      "Category:Archie Comics superheroes (id: ??, ns: 14)\n",
      "Category:Charlton Comics superheroes (id: ??, ns: 14)\n",
      "Category:Dark Horse Comics superheroes (id: ??, ns: 14)\n",
      "Category:DC Comics superheroes (id: ??, ns: 14)\n",
      "Category:Aquaman (id: ??, ns: 14)\n",
      "Category:DC Comics Atlanteans (id: ??, ns: 14)\n",
      "Category:Aquaman images (id: ??, ns: 14)\n",
      "Category:Covers from titles related to Aquaman (id: ??, ns: 14)\n",
      "Category:Aquaman in other media (id: ??, ns: 14)\n",
      "Category:Batman (id: ??, ns: 14)\n",
      "Category:Batman characters (id: ??, ns: 14)\n",
      "Category:Lists of Batman characters (id: ??, ns: 14)\n",
      "Category:Batman Beyond characters (id: ??, ns: 14)\n",
      "Category:Batman: The Animated Series characters (id: ??, ns: 14)\n",
      "Category:Gotham City Police Department officers (id: ??, ns: 14)\n",
      "Category:The Joker (id: ??, ns: 14)\n",
      "Category:Gotham City (id: ??, ns: 14)\n",
      "Category:Batman images (id: ??, ns: 14)\n",
      "Category:Covers from titles related to Batman (id: ??, ns: 14)\n",
      "Category:Batman film screenshots and pictures (id: ??, ns: 14)\n",
      "Category:Batman television show screenshots and pictures (id: ??, ns: 14)\n",
      "Category:Batman lists (id: ??, ns: 14)\n",
      "Category:Batman television series episodes (id: ??, ns: 14)\n",
      "Category:Batman objects (id: ??, ns: 14)\n",
      "Category:Batman vehicles (id: ??, ns: 14)\n",
      "Category:Batman in other media (id: ??, ns: 14)\n",
      "Category:Batman in amusement parks (id: ??, ns: 14)\n",
      "Category:Batman arcade and video games (id: ??, ns: 14)\n",
      "Category:Batman films (id: ??, ns: 14)\n",
      "Category:Batman music (id: ??, ns: 14)\n",
      "Category:Batman novels (id: ??, ns: 14)\n",
      "Category:Batman radio series (id: ??, ns: 14)\n",
      "Category:Batman television series (id: ??, ns: 14)\n",
      "Category:Batman toys (id: ??, ns: 14)\n",
      "Category:Batman storylines (id: ??, ns: 14)\n",
      "Category:Batman titles (id: ??, ns: 14)\n",
      "Category:Batman graphic novels (id: ??, ns: 14)\n",
      "Category:Batman templates (id: ??, ns: 14)\n",
      "Category:Black Canary (id: ??, ns: 14)\n",
      "Category:Black Canary characters (id: ??, ns: 14)\n",
      "Category:Lists of Black Canary characters (id: ??, ns: 14)\n",
      "Category:Black Canary in other media (id: ??, ns: 14)\n",
      "Category:Captain Marvel (DC Comics) (id: ??, ns: 14)\n",
      "Category:Captain Marvel (DC Comics) in other media (id: ??, ns: 14)\n",
      "Category:Marvel Family (id: ??, ns: 14)\n",
      "Category:Marvel Family images (id: ??, ns: 14)\n",
      "Category:Covers from titles related to Captain Marvel (DC Comics) (id: ??, ns: 14)\n",
      "Category:DC Comics superhero teams (id: ??, ns: 14)\n",
      "Category:Lists of DC characters by organization (id: ??, ns: 14)\n",
      "Category:Justice League (id: ??, ns: 14)\n",
      "Category:Justice League images (id: ??, ns: 14)\n",
      "Category:Justice League in other media (id: ??, ns: 14)\n",
      "Category:Justice League locations (id: ??, ns: 14)\n",
      "Category:Justice League storylines (id: ??, ns: 14)\n",
      "Category:Justice League titles (id: ??, ns: 14)\n",
      "Category:Justice League templates (id: ??, ns: 14)\n",
      "Category:Legion of Super-Heroes (id: ??, ns: 14)\n",
      "Category:Legion of Super-Heroes in other media (id: ??, ns: 14)\n",
      "Category:Legion of Super-Heroes images (id: ??, ns: 14)\n",
      "Category:Legion of Super-Heroes storylines (id: ??, ns: 14)\n",
      "Category:Legion of Super-Heroes titles (id: ??, ns: 14)\n",
      "Category:Suicide Squad (id: ??, ns: 14)\n",
      "Category:Teen Titans (id: ??, ns: 14)\n",
      "Category:Teen Titans images (id: ??, ns: 14)\n",
      "Category:Teen Titans (TV series) seasons (id: ??, ns: 14)\n",
      "Category:Teen Titans in other media (id: ??, ns: 14)\n",
      "Category:Flash (comics) (id: ??, ns: 14)\n",
      "Category:Flash (comics) in other media (id: ??, ns: 14)\n",
      "Category:Animated Flash (comics) films (id: ??, ns: 14)\n",
      "Category:Flash (comics) television series (id: ??, ns: 14)\n",
      "Category:Flash (comics) images (id: ??, ns: 14)\n",
      "Category:Covers from titles related to Flash (id: ??, ns: 14)\n",
      "Category:Green Arrow (id: ??, ns: 14)\n",
      "Category:Green Arrow characters (id: ??, ns: 14)\n",
      "Category:Green Arrow images (id: ??, ns: 14)\n",
      "Category:Arrow (TV series) images (id: ??, ns: 14)\n",
      "Category:Covers from titles related to Green Arrow (id: ??, ns: 14)\n",
      "Category:Green Arrow in other media (id: ??, ns: 14)\n",
      "Category:Green Arrow television series (id: ??, ns: 14)\n",
      "Category:Green Lantern (id: ??, ns: 14)\n",
      "Category:Green Lantern characters (id: ??, ns: 14)\n",
      "Category:Green Lantern Corps officers (id: ??, ns: 14)\n",
      "Category:Green Lantern in other media (id: ??, ns: 14)\n",
      "Category:Green Lantern films (id: ??, ns: 14)\n",
      "Category:Green Lantern images (id: ??, ns: 14)\n",
      "Category:Covers from titles related to Green Lantern (id: ??, ns: 14)\n",
      "Category:Green Lantern storylines (id: ??, ns: 14)\n",
      "Category:Green Lantern titles (id: ??, ns: 14)\n",
      "Category:Jonah Hex (id: ??, ns: 14)\n",
      "Category:Jonah Hex in other media (id: ??, ns: 14)\n",
      "Category:New Gods of New Genesis (id: ??, ns: 14)\n",
      "Category:Steel (comics) (id: ??, ns: 14)\n",
      "Category:Supergirl (id: ??, ns: 14)\n",
      "Category:Supergirl (TV series) (id: ??, ns: 14)\n",
      "Category:Supergirl episodes (id: ??, ns: 14)\n",
      "Category:Superman (id: ??, ns: 14)\n",
      "Category:Superman characters (id: ??, ns: 14)\n",
      "Category:Superman images (id: ??, ns: 14)\n",
      "Category:Fleischer and Famous Studios Superman images (id: ??, ns: 14)\n",
      "Category:Covers from titles related to Superman (id: ??, ns: 14)\n",
      "Category:Superman film screenshots and pictures (id: ??, ns: 14)\n",
      "Category:Smallville images (id: ??, ns: 14)\n",
      "Category:Kryptonians (id: ??, ns: 14)\n",
      "Category:Superman lists (id: ??, ns: 14)\n",
      "Category:Metropolis (comics) (id: ??, ns: 14)\n",
      "Category:Superman in other media (id: ??, ns: 14)\n",
      "Category:Superman in amusement parks (id: ??, ns: 14)\n",
      "Category:Superman arcade and video games (id: ??, ns: 14)\n",
      "Category:Superman films (id: ??, ns: 14)\n",
      "Category:Superman music (id: ??, ns: 14)\n",
      "Category:Superman novels (id: ??, ns: 14)\n",
      "Category:Superman radio series (id: ??, ns: 14)\n",
      "Category:Superman short stories (id: ??, ns: 14)\n",
      "Category:Superman television series (id: ??, ns: 14)\n",
      "Category:Superman storylines (id: ??, ns: 14)\n",
      "Category:Superman templates (id: ??, ns: 14)\n",
      "Category:Superman titles (id: ??, ns: 14)\n",
      "Category:Swamp Thing (id: ??, ns: 14)\n",
      "Category:Swamp Thing in other media (id: ??, ns: 14)\n",
      "Category:Wingmen of Thanagar (id: ??, ns: 14)\n",
      "Category:Wingmen of Thanagar storylines (id: ??, ns: 14)\n",
      "Category:Wonder Woman (id: ??, ns: 14)\n",
      "Category:Wonder Woman characters (id: ??, ns: 14)\n",
      "Category:Wonder Woman images (id: ??, ns: 14)\n",
      "Category:Covers from titles related to Wonder Woman (id: ??, ns: 14)\n",
      "Category:Wonder Woman lists (id: ??, ns: 14)\n",
      "Category:Wonder Woman storylines (id: ??, ns: 14)\n",
      "Category:Wonder Woman titles (id: ??, ns: 14)\n",
      "Category:Wonder Woman in other media (id: ??, ns: 14)\n",
      "Category:Wonder Woman films (id: ??, ns: 14)\n",
      "Category:Wonder Woman templates (id: ??, ns: 14)\n",
      "Category:Eclipse Comics superheroes (id: ??, ns: 14)\n",
      "Category:Fawcett Comics superheroes (id: ??, ns: 14)\n",
      "Category:Fox Feature Syndicate superheroes (id: ??, ns: 14)\n",
      "Category:Harvey Comics superheroes (id: ??, ns: 14)\n",
      "Category:Image Comics superheroes (id: ??, ns: 14)\n",
      "Category:Image Comics superhero teams (id: ??, ns: 14)\n",
      "Category:Wildstorm Publications superhero teams (id: ??, ns: 14)\n",
      "Category:Skybound Entertainment superheroes (id: ??, ns: 14)\n",
      "Category:Marvel Comics superheroes (id: ??, ns: 14)\n",
      "Category:Marvel Comics superhero teams (id: ??, ns: 14)\n",
      "Category:Lists of Marvel Comics characters by organization (id: ??, ns: 14)\n",
      "Category:Avengers (comics) (id: ??, ns: 14)\n",
      "Category:Avengers (comics) in other media (id: ??, ns: 14)\n",
      "Category:Avengers (comics) lists (id: ??, ns: 14)\n",
      "Category:Avengers (comics) storylines (id: ??, ns: 14)\n",
      "Category:Avengers (comics) titles (id: ??, ns: 14)\n",
      "Category:Avengers (comics) images (id: ??, ns: 14)\n",
      "Category:Avengers (comics) navigational boxes (id: ??, ns: 14)\n",
      "Category:Big Hero 6 (id: ??, ns: 14)\n",
      "Category:Big Hero 6 characters (id: ??, ns: 14)\n",
      "Category:Fantastic Four (id: ??, ns: 14)\n",
      "Category:Fantastic Four in other media (id: ??, ns: 14)\n",
      "Category:Fantastic Four lists (id: ??, ns: 14)\n",
      "Category:Fantastic Four storylines (id: ??, ns: 14)\n",
      "Category:Fantastic Four titles (id: ??, ns: 14)\n"
     ]
    },
    {
     "name": "stdout",
     "output_type": "stream",
     "text": [
      "Category:Fantastic Four images (id: ??, ns: 14)\n",
      "Category:Guardians of the Galaxy (id: ??, ns: 14)\n",
      "Category:Guardians of the Galaxy characters (id: ??, ns: 14)\n",
      "Category:Guardians of the Galaxy films (id: ??, ns: 14)\n",
      "Category:Guardians of the Galaxy images (id: ??, ns: 14)\n",
      "Category:Inhumans (id: ??, ns: 14)\n",
      "Category:Midnight Sons (id: ??, ns: 14)\n",
      "Category:Blade (comics) (id: ??, ns: 14)\n",
      "Category:Ghost Rider (id: ??, ns: 14)\n",
      "Category:X-Men (id: ??, ns: 14)\n",
      "Category:Deadpool (id: ??, ns: 14)\n",
      "Category:X-Men lists (id: ??, ns: 14)\n",
      "Category:X-Men in other media (id: ??, ns: 14)\n",
      "Category:X-Men storylines (id: ??, ns: 14)\n",
      "Category:X-Men titles (id: ??, ns: 14)\n",
      "Category:Wolverine (comics) (id: ??, ns: 14)\n",
      "Category:X-Men images (id: ??, ns: 14)\n",
      "Category:Black Panther (id: ??, ns: 14)\n",
      "Category:Black Panther characters (id: ??, ns: 14)\n",
      "Category:Lists of Black Panther characters (id: ??, ns: 14)\n",
      "Category:Wakandans (id: ??, ns: 14)\n",
      "Category:Black Panther lists (id: ??, ns: 14)\n",
      "Category:Black Widow (Marvel Comics) (id: ??, ns: 14)\n",
      "Category:Black Widow films (id: ??, ns: 14)\n",
      "Category:Captain America (id: ??, ns: 14)\n",
      "Category:Captain America in other media (id: ??, ns: 14)\n",
      "Category:Captain America films (id: ??, ns: 14)\n",
      "Category:Video games based on Captain America (id: ??, ns: 14)\n",
      "Category:Captain America storylines (id: ??, ns: 14)\n",
      "Category:Captain America titles (id: ??, ns: 14)\n",
      "Category:Captain America images (id: ??, ns: 14)\n",
      "Category:Covers from titles related to Captain America (id: ??, ns: 14)\n",
      "Category:Peggy Carter (id: ??, ns: 14)\n",
      "Category:Agent Carter (TV series) (id: ??, ns: 14)\n",
      "Category:Agent Carter episodes (id: ??, ns: 14)\n",
      "Category:Agent Carter seasons (id: ??, ns: 14)\n",
      "Category:Daredevil (Marvel Comics) (id: ??, ns: 14)\n",
      "Category:Daredevil (Marvel Comics) films (id: ??, ns: 14)\n",
      "Category:Daredevil (TV series) (id: ??, ns: 14)\n",
      "Category:Daredevil seasons (id: ??, ns: 14)\n",
      "Category:Daredevil (Marvel Comics) storylines (id: ??, ns: 14)\n",
      "Category:Daredevil (Marvel Comics) titles (id: ??, ns: 14)\n",
      "Category:Daredevil (Marvel Comics) images (id: ??, ns: 14)\n",
      "Category:Covers from titles related to Daredevil (Marvel Comics) (id: ??, ns: 14)\n",
      "Category:Hulk (comics) (id: ??, ns: 14)\n",
      "Category:Lists of Hulk (comics) characters (id: ??, ns: 14)\n",
      "Category:Hulk (comics) in other media (id: ??, ns: 14)\n",
      "Category:Hulk (comics) films (id: ??, ns: 14)\n",
      "Category:Hulk (comics) television series (id: ??, ns: 14)\n",
      "Category:Video games based on Hulk (comics) (id: ??, ns: 14)\n",
      "Category:Hulk (comics) storylines (id: ??, ns: 14)\n",
      "Category:Hulk (comics) titles (id: ??, ns: 14)\n",
      "Category:Hulk (comics) images (id: ??, ns: 14)\n",
      "Category:Covers from titles related to Hulk (comics) (id: ??, ns: 14)\n",
      "Category:Iron Man (id: ??, ns: 14)\n",
      "Category:Iron Man in other media (id: ??, ns: 14)\n",
      "Category:Iron Man films (id: ??, ns: 14)\n",
      "Category:Iron Man television series (id: ??, ns: 14)\n",
      "Category:Video games based on Iron Man (id: ??, ns: 14)\n",
      "Category:Iron Man storylines (id: ??, ns: 14)\n",
      "Category:Iron Man titles (id: ??, ns: 14)\n",
      "Category:Iron Man images (id: ??, ns: 14)\n",
      "Category:Covers from titles related to Iron Man (id: ??, ns: 14)\n",
      "Category:Luke Cage (id: ??, ns: 14)\n",
      "Category:Luke Cage (TV series) (id: ??, ns: 14)\n",
      "Category:Nick Fury (id: ??, ns: 14)\n",
      "Category:Howling Commandos (id: ??, ns: 14)\n",
      "Category:Nick Fury in other media (id: ??, ns: 14)\n",
      "Category:Nick Fury titles (id: ??, ns: 14)\n",
      "Category:Nick Fury images (id: ??, ns: 14)\n",
      "Category:Covers from titles related to Nick Fury (id: ??, ns: 14)\n",
      "Category:Punisher (id: ??, ns: 14)\n",
      "Category:Punisher characters (id: ??, ns: 14)\n",
      "Category:Punisher in other media (id: ??, ns: 14)\n",
      "Category:The Punisher (TV series) (id: ??, ns: 14)\n",
      "Category:Punisher films (id: ??, ns: 14)\n",
      "Category:Punisher in music (id: ??, ns: 14)\n",
      "Category:Video games based on Punisher (id: ??, ns: 14)\n",
      "Category:Punisher titles (id: ??, ns: 14)\n",
      "Category:Punisher images (id: ??, ns: 14)\n",
      "Category:Covers from titles related to Punisher (id: ??, ns: 14)\n",
      "Category:Scarlet Witch (id: ??, ns: 14)\n",
      "Category:Silver Surfer (id: ??, ns: 14)\n",
      "Category:Spider-Man (id: ??, ns: 14)\n",
      "Category:Spider-Man characters (id: ??, ns: 14)\n",
      "Category:Lists of Spider-Man characters (id: ??, ns: 14)\n",
      "Category:Spider-Man lists (id: ??, ns: 14)\n",
      "Category:Lists of Spider-Man titles (id: ??, ns: 14)\n",
      "Category:Spider-Man television series episodes (id: ??, ns: 14)\n",
      "Category:Spider-Man in other media (id: ??, ns: 14)\n",
      "Category:Spider-Man films (id: ??, ns: 14)\n",
      "Category:Spider-Man music (id: ??, ns: 14)\n"
     ]
    }
   ],
   "source": [
    "names = [\"Category:Biomedical\",\"Category:Biomedical engineering\",\"Category:Biomedical sicences\",\"Category:Biomedicine\"]\n",
    "for name in names:\n",
    "    cat = wiki.page(name)\n",
    "    db.categories.insert_one({'level':0, 'type':'main_category','title':name})\n",
    "    get_allsubcategories(cat)"
   ]
  },
  {
   "cell_type": "code",
   "execution_count": 13,
   "metadata": {},
   "outputs": [],
   "source": [
    "#For all categories, get their pages\n",
    "def get_allrelatednodes():\n",
    "    for cat in db.categories.find({}):\n",
    "        pages = wiki.page(cat['title']).categorymembers.values()\n",
    "        for page in pages:\n",
    "            if page.ns != wikipediaapi.Namespace.CATEGORY:\n",
    "                if db.pages.find({'title':page.title}).count() == 0:\n",
    "                    links = []\n",
    "                    for link in page.links.keys():\n",
    "                        links.append(link)\n",
    "                    db.pages.insert_one({'title':page.title,'category':[cat['title']],'links':links})\n",
    "                else:\n",
    "                    newcat = db.pages.find_one({'title':page.title})['category']\n",
    "                    if cat['title'] not in newcat:\n",
    "                        newcat.append(cat['title'])\n",
    "                    db.pages.update_one({'title':page.title},{'$set':{'category':newcat}})\n",
    "                    \n",
    "#get_allrelatednodes()"
   ]
  },
  {
   "cell_type": "code",
   "execution_count": 20,
   "metadata": {},
   "outputs": [],
   "source": [
    "#Link the pages and categories together\n",
    "def get_alledges():\n",
    "    get_allcatedges()\n",
    "    get_allpageedges()\n",
    "    \n",
    "def get_allcatedges():\n",
    "    cats = db.categories.find({})\n",
    "    for cat in cats:\n",
    "        if cat['level'] > 0:\n",
    "            db.cat_edges.insert_one({'Parent':db.categories.find_one({'title':cat['parent']}),'Child':cat,'content':'added via'})\n",
    "\n",
    "def get_allpageedges():\n",
    "    pages = db.pages.find({})\n",
    "    for page in pages:\n",
    "        for linktitle in page['links']:\n",
    "            linkpage = db.pages.find_one({'title':linktitle})\n",
    "            if db.page_edges.find({'Source':page,'Link':linkpage}).count() == 0:\n",
    "                db.page_edges.insert_one({'Source':page,'Link':linkpage,'content':'has link to'})\n",
    "            else:\n",
    "                db.page_edges.update_one({'Source':page,'Link':linkpage},{'$set':{'content':'linked with each other'}})\n",
    "\n",
    "#get_alledges()"
   ]
  },
  {
   "cell_type": "code",
   "execution_count": 71,
   "metadata": {},
   "outputs": [
    {
     "data": {
      "text/plain": [
       "{'_id': ObjectId('5aba9fc532736325267ad2c4'),\n",
       " 'level': 1,\n",
       " 'title': 'Category:Biomedical engineering in fiction',\n",
       " 'type': 'sub_category'}"
      ]
     },
     "execution_count": 71,
     "metadata": {},
     "output_type": "execute_result"
    }
   ],
   "source": [
    "db.categories.find_one({'title':\"Category:Biomedical engineering in fiction\"})"
   ]
  },
  {
   "cell_type": "code",
   "execution_count": 14,
   "metadata": {},
   "outputs": [
    {
     "name": "stderr",
     "output_type": "stream",
     "text": [
      "/home/ec2-user/anaconda3/lib/python3.6/site-packages/ipykernel_launcher.py:1: DeprecationWarning: remove is deprecated. Use delete_one or delete_many instead.\n",
      "  \"\"\"Entry point for launching an IPython kernel.\n"
     ]
    },
    {
     "data": {
      "text/plain": [
       "{'n': 46, 'ok': 1.0}"
      ]
     },
     "execution_count": 14,
     "metadata": {},
     "output_type": "execute_result"
    }
   ],
   "source": [
    "db.cat_edges.remove({})"
   ]
  },
  {
   "cell_type": "code",
   "execution_count": null,
   "metadata": {},
   "outputs": [],
   "source": []
  }
 ],
 "metadata": {
  "kernelspec": {
   "display_name": "Python 3",
   "language": "python",
   "name": "python3"
  },
  "language_info": {
   "codemirror_mode": {
    "name": "ipython",
    "version": 3
   },
   "file_extension": ".py",
   "mimetype": "text/x-python",
   "name": "python",
   "nbconvert_exporter": "python",
   "pygments_lexer": "ipython3",
   "version": "3.6.4"
  }
 },
 "nbformat": 4,
 "nbformat_minor": 2
}
