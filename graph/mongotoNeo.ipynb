{
 "cells": [
  {
   "cell_type": "code",
   "execution_count": 1,
   "metadata": {
    "collapsed": true
   },
   "outputs": [],
   "source": [
    "from py2neo import Graph, Path\n",
    "from py2neo import Node, Relationship\n",
    "from pymongo import MongoClient\n",
    "import json\n",
    "\n",
    "config = json.load(open(\"config.json\"))\n",
    "\n",
    "graph = Graph(\"http://\"+config[\"user\"]+\":\"+config[\"password\"]+\"@\"+config[\"server\"]+\":7474\")\n",
    "\n",
    "client = MongoClient()\n",
    "client = MongoClient(config[\"server\"], 27017)\n",
    "db = client.KG"
   ]
  },
  {
   "cell_type": "markdown",
   "metadata": {},
   "source": [
    "## First add all nodes into neo4j graph"
   ]
  },
  {
   "cell_type": "code",
   "execution_count": 2,
   "metadata": {},
   "outputs": [],
   "source": [
    "def addnodes():\n",
    "    nodes = db.Node.find({})\n",
    "    for node in nodes:\n",
    "        graphnode = Node(node['category'],title = node['label'],content = node['abstract'])\n",
    "        graph.create(graphnode)\n",
    "        \n",
    "\n",
    "addnodes()"
   ]
  },
  {
   "cell_type": "code",
   "execution_count": 3,
   "metadata": {
    "collapsed": true
   },
   "outputs": [],
   "source": [
    "query_contents = json.load(open(\"query_content.json\"))\n",
    "def addedges():\n",
    "    nodes = db.Node.find({})\n",
    "    for node in nodes:\n",
    "        #The origin node in the graph\n",
    "        for relate in query_contents[node['category']]:\n",
    "            if relate != \"abstract\" and relate != \"label\" and len(node[relate]) > 0:\n",
    "                for r in node[relate]:\n",
    "                    query = 'MATCH (c) WHERE c.title=[\"' + r + '\"] RETURN c'\n",
    "                    if len(graph.run(query).data()) == 0:\n",
    "                        abstract = ['This is the '+relate+'of node '+node['label'][0]]\n",
    "                        gn = Node(relate,title = [r],content = abstract)\n",
    "                        graph.create(gn)\n",
    "                        cat = relate\n",
    "                    else:\n",
    "                        cat = str(graph.run(query).data()[0]['c']).split(':')[1].split(' ')[0]\n",
    "                    createR = 'MATCH (p:'+node['category']+' {title:[\"'+node['label'][0]+'\"]}),'+\\\n",
    "                    '(c:'+cat+' {title:[\"'+r+'\"]})' +'CREATE (c)-[:`'+relate+'`]->(p)'\n",
    "                    graph.run(createR)\n",
    "            else:\n",
    "                pass"
   ]
  },
  {
   "cell_type": "code",
   "execution_count": 4,
   "metadata": {},
   "outputs": [],
   "source": [
    "addedges()"
   ]
  },
  {
   "cell_type": "code",
   "execution_count": null,
   "metadata": {},
   "outputs": [],
   "source": [
    "query = 'MATCH (c) WHERE c.title=[\"' +\"Artificial cardiac pacemaker\" + '\"] RETURN c'\n",
    "str(graph.run(query).data()[0]['c']).split(':')[1].split(' ')[0]"
   ]
  },
  {
   "cell_type": "code",
   "execution_count": null,
   "metadata": {
    "collapsed": true
   },
   "outputs": [],
   "source": [
    "gn = Node('label',title = [\"Artificial cardiac pacemaker\"],content = 'abstract')\n",
    "graph.run(query).data()"
   ]
  },
  {
   "cell_type": "code",
   "execution_count": null,
   "metadata": {
    "collapsed": true
   },
   "outputs": [],
   "source": []
  }
 ],
 "metadata": {
  "kernelspec": {
   "display_name": "Python 3",
   "language": "python",
   "name": "python3"
  },
  "language_info": {
   "codemirror_mode": {
    "name": "ipython",
    "version": 3
   },
   "file_extension": ".py",
   "mimetype": "text/x-python",
   "name": "python",
   "nbconvert_exporter": "python",
   "pygments_lexer": "ipython3",
   "version": "3.6.2"
  }
 },
 "nbformat": 4,
 "nbformat_minor": 2
}
